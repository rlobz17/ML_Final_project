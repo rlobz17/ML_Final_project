{
 "cells": [
  {
   "cell_type": "code",
   "execution_count": 1,
   "metadata": {},
   "outputs": [
    {
     "name": "stdout",
     "output_type": "stream",
     "text": [
      "reading helper data on path: ./Data/Helper/backGround_street.wav\n",
      "reading helper data on path: ./Data/Helper/backGround_noice.wav\n",
      "reading helper data on path: ./Data/Helper/backGround_nature.wav\n",
      "[new value of  18\n",
      "-new value of  41\n",
      "------new value of  55\n",
      "-------new value of  57\n",
      "------new value of  90\n",
      "------------------------------------------------------------------------------------------------------------------------------------------------------------------------------new value of  93\n",
      "--------------------------------------------------------------------------------------------------------------------------------------------------------------------------------------------------------------------------------------------------------------------------------------------------------------------------------------------------------------------------------------------------------------------------------------------------------------------------------------------------------------]\n",
      "[################################################################################################################################################################################################################################################################################################################################################################################################################################################################################################################################################################################################################################################################################################################################################################################################################################################################################################################################################################################################################################################################################################################################################################################################################################################################################################################################################################################################################################################################################################################################################################################################################################################################################################################################################################################################################################################################################################################################################################################################################################################################################################################################################################################################################################################################################################################################################################################################################################################################################################################################################################################################################################################################################################################################################################################################################################################################################################################################################################################################################################################################################################################################################################################################################################################################################################################################################################################################################################################################################################################################################################################################################################################################################################################################################################################################################################################################################################################################################################################################################################################################################################################################################################################################################################################################################################################################################################################################################################################################################################################################################################################################################################################################################################################################################################################################################################################################################################################################################################################################################]\n",
      "[---------------------------]\n",
      "[###########################]\n"
     ]
    }
   ],
   "source": [
    "import DataProvider\n",
    "prov = DataProvider.DataProvider()"
   ]
  },
  {
   "cell_type": "code",
   "execution_count": 2,
   "metadata": {},
   "outputs": [],
   "source": [
    "import numpy as np\n",
    "X = list()\n",
    "y = list()\n",
    "trainVal = list()"
   ]
  },
  {
   "cell_type": "code",
   "execution_count": 3,
   "metadata": {},
   "outputs": [],
   "source": [
    "while prov.hasNext(True):\n",
    "    Xt, yt = prov.next(True)\n",
    "    for i in range(len(yt)):\n",
    "        if yt[i] == 1:\n",
    "            trainVal.append(i+1)\n",
    "            \n",
    "    X.append(Xt)\n",
    "    y.append(yt)"
   ]
  },
  {
   "cell_type": "code",
   "execution_count": 4,
   "metadata": {},
   "outputs": [
    {
     "data": {
      "text/plain": [
       "((4816, 93, 25), (4816, 5))"
      ]
     },
     "execution_count": 4,
     "metadata": {},
     "output_type": "execute_result"
    }
   ],
   "source": [
    "X = np.nan_to_num(np.array(X))\n",
    "y = np.matrix(y)\n",
    "\n",
    "X.shape, y.shape"
   ]
  },
  {
   "cell_type": "code",
   "execution_count": 5,
   "metadata": {},
   "outputs": [
    {
     "data": {
      "text/plain": [
       "(4816, 93, 25, 1)"
      ]
     },
     "execution_count": 5,
     "metadata": {},
     "output_type": "execute_result"
    }
   ],
   "source": [
    "X_train = X.reshape(X.shape[0], X.shape[1], X.shape[2], 1)\n",
    "X_train.shape"
   ]
  },
  {
   "cell_type": "code",
   "execution_count": 6,
   "metadata": {},
   "outputs": [],
   "source": [
    "X2 = list()\n",
    "y2 = list()\n",
    "actualVal = list()"
   ]
  },
  {
   "cell_type": "code",
   "execution_count": 7,
   "metadata": {},
   "outputs": [],
   "source": [
    "while prov.hasNext(False):\n",
    "    X2t, y2t = prov.next(False)\n",
    "    actualVal.append(y2t)\n",
    "    \n",
    "    k = np.zeros(5)\n",
    "    k[y2t - 1] = 1\n",
    "    \n",
    "    X2.append(X2t)\n",
    "    y2.append(k)"
   ]
  },
  {
   "cell_type": "code",
   "execution_count": 8,
   "metadata": {},
   "outputs": [
    {
     "data": {
      "text/plain": [
       "((27, 93, 25), (27, 5))"
      ]
     },
     "execution_count": 8,
     "metadata": {},
     "output_type": "execute_result"
    }
   ],
   "source": [
    "X2 = np.nan_to_num(np.array(X2))\n",
    "y2 = np.matrix(y2)\n",
    "\n",
    "X2.shape, y2.shape"
   ]
  },
  {
   "cell_type": "code",
   "execution_count": 9,
   "metadata": {},
   "outputs": [
    {
     "data": {
      "text/plain": [
       "(27, 93, 25, 1)"
      ]
     },
     "execution_count": 9,
     "metadata": {},
     "output_type": "execute_result"
    }
   ],
   "source": [
    "X_test = X2.reshape(X2.shape[0], X2.shape[1], X2.shape[2], 1)\n",
    "X_test.shape"
   ]
  },
  {
   "cell_type": "code",
   "execution_count": 171,
   "metadata": {},
   "outputs": [],
   "source": [
    "import keras\n",
    "from keras.models import Sequential\n",
    "from keras.layers import Dense, Conv2D, MaxPooling2D, Dropout, Flatten,InputLayer,AveragePooling2D\n",
    "from keras import optimizers"
   ]
  },
  {
   "cell_type": "code",
   "execution_count": 180,
   "metadata": {},
   "outputs": [],
   "source": [
    "model = Sequential()"
   ]
  },
  {
   "cell_type": "code",
   "execution_count": 181,
   "metadata": {},
   "outputs": [],
   "source": [
    "model.add(InputLayer(input_shape = (X.shape[1], X.shape[2],1)))\n",
    "\n",
    "model.add(Conv2D(64, (6,6), activation=\"relu\"))\n",
    "model.add(MaxPooling2D(pool_size=(2,2)))\n",
    "model.add(Dropout(0.2))\n",
    "\n",
    "model.add(Conv2D(64, (4,4), activation=\"relu\"))\n",
    "model.add(MaxPooling2D(pool_size=(2,2)))\n",
    "model.add(Dropout(0.2))\n",
    "\n",
    "model.add(Conv2D(64, (2,2), activation=\"relu\"))\n",
    "model.add(MaxPooling2D(pool_size=(2,2)))\n",
    "model.add(Dropout(0.2))\n",
    "\n",
    "#model.add(Conv2D(128, (3,3), activation=\"relu\"))\n",
    "#model.add(Dropout(0.4))\n",
    "\n",
    "model.add(Flatten())\n",
    "\n",
    "model.add(Dense(32, activation=\"relu\"))\n",
    "model.add(Dropout(0.3))\n",
    "model.add(Dense(8, activation=\"relu\"))\n",
    "model.add(Dense(5, activation='softmax'))"
   ]
  },
  {
   "cell_type": "code",
   "execution_count": 182,
   "metadata": {},
   "outputs": [
    {
     "name": "stdout",
     "output_type": "stream",
     "text": [
      "Model: \"sequential_14\"\n",
      "_________________________________________________________________\n",
      "Layer (type)                 Output Shape              Param #   \n",
      "=================================================================\n",
      "conv2d_37 (Conv2D)           (None, 88, 20, 64)        2368      \n",
      "_________________________________________________________________\n",
      "max_pooling2d_24 (MaxPooling (None, 44, 10, 64)        0         \n",
      "_________________________________________________________________\n",
      "dropout_38 (Dropout)         (None, 44, 10, 64)        0         \n",
      "_________________________________________________________________\n",
      "conv2d_38 (Conv2D)           (None, 41, 7, 64)         65600     \n",
      "_________________________________________________________________\n",
      "max_pooling2d_25 (MaxPooling (None, 20, 3, 64)         0         \n",
      "_________________________________________________________________\n",
      "dropout_39 (Dropout)         (None, 20, 3, 64)         0         \n",
      "_________________________________________________________________\n",
      "conv2d_39 (Conv2D)           (None, 19, 2, 64)         16448     \n",
      "_________________________________________________________________\n",
      "max_pooling2d_26 (MaxPooling (None, 9, 1, 64)          0         \n",
      "_________________________________________________________________\n",
      "dropout_40 (Dropout)         (None, 9, 1, 64)          0         \n",
      "_________________________________________________________________\n",
      "flatten_9 (Flatten)          (None, 576)               0         \n",
      "_________________________________________________________________\n",
      "dense_20 (Dense)             (None, 32)                18464     \n",
      "_________________________________________________________________\n",
      "dropout_41 (Dropout)         (None, 32)                0         \n",
      "_________________________________________________________________\n",
      "dense_21 (Dense)             (None, 8)                 264       \n",
      "_________________________________________________________________\n",
      "dense_22 (Dense)             (None, 5)                 45        \n",
      "=================================================================\n",
      "Total params: 103,189\n",
      "Trainable params: 103,189\n",
      "Non-trainable params: 0\n",
      "_________________________________________________________________\n"
     ]
    }
   ],
   "source": [
    "model.summary()"
   ]
  },
  {
   "cell_type": "code",
   "execution_count": 183,
   "metadata": {},
   "outputs": [],
   "source": [
    "# model.add(Dense(units=256, activation='relu', input_dim = prov.returnSizeOfEverySpectogram()))\n",
    "# #model.add(Dropout(0.1))\n",
    "# model.add(Dense(64, activation='relu'))\n",
    "# #model.add(Dropout(0.2))\n",
    "# #model.add(Dense(32, activation='relu'))\n",
    "# #model.add(Dense(256, activation='relu'))\n",
    "# model.add(Dense(units=5, activation='softmax'))"
   ]
  },
  {
   "cell_type": "code",
   "execution_count": 184,
   "metadata": {},
   "outputs": [],
   "source": [
    "model.compile(loss='mean_absolute_error',\n",
    "              optimizer='adam',\n",
    "              metrics=['accuracy'])"
   ]
  },
  {
   "cell_type": "code",
   "execution_count": 195,
   "metadata": {},
   "outputs": [
    {
     "name": "stdout",
     "output_type": "stream",
     "text": [
      "Train on 3852 samples, validate on 964 samples\n",
      "Epoch 1/25\n",
      "3852/3852 [==============================] - 14s 4ms/step - loss: 0.1733 - accuracy: 0.5722 - val_loss: 0.1849 - val_accuracy: 0.5415\n",
      "Epoch 2/25\n",
      "3852/3852 [==============================] - 13s 3ms/step - loss: 0.1641 - accuracy: 0.5961 - val_loss: 0.1898 - val_accuracy: 0.5218\n",
      "Epoch 3/25\n",
      "3852/3852 [==============================] - 13s 3ms/step - loss: 0.1607 - accuracy: 0.6059 - val_loss: 0.1993 - val_accuracy: 0.5010\n",
      "Epoch 4/25\n",
      "3852/3852 [==============================] - 13s 3ms/step - loss: 0.1550 - accuracy: 0.6212 - val_loss: 0.1744 - val_accuracy: 0.5674\n",
      "Epoch 5/25\n",
      "3852/3852 [==============================] - 13s 3ms/step - loss: 0.1444 - accuracy: 0.6482 - val_loss: 0.1705 - val_accuracy: 0.5747\n",
      "Epoch 6/25\n",
      "3852/3852 [==============================] - 12s 3ms/step - loss: 0.1413 - accuracy: 0.6521 - val_loss: 0.1693 - val_accuracy: 0.5830\n",
      "Epoch 7/25\n",
      "3852/3852 [==============================] - 12s 3ms/step - loss: 0.1318 - accuracy: 0.6786 - val_loss: 0.1613 - val_accuracy: 0.6037\n",
      "Epoch 8/25\n",
      "3852/3852 [==============================] - 13s 3ms/step - loss: 0.1256 - accuracy: 0.6973 - val_loss: 0.1737 - val_accuracy: 0.5654\n",
      "Epoch 9/25\n",
      "3852/3852 [==============================] - 13s 3ms/step - loss: 0.1229 - accuracy: 0.7048 - val_loss: 0.1350 - val_accuracy: 0.6691\n",
      "Epoch 10/25\n",
      "3852/3852 [==============================] - 13s 3ms/step - loss: 0.1025 - accuracy: 0.7557 - val_loss: 0.1333 - val_accuracy: 0.6743\n",
      "Epoch 11/25\n",
      "3852/3852 [==============================] - 13s 3ms/step - loss: 0.0888 - accuracy: 0.7902 - val_loss: 0.1076 - val_accuracy: 0.7324\n",
      "Epoch 12/25\n",
      "3852/3852 [==============================] - 13s 3ms/step - loss: 0.0874 - accuracy: 0.7947 - val_loss: 0.1225 - val_accuracy: 0.6929\n",
      "Epoch 13/25\n",
      "3852/3852 [==============================] - 13s 3ms/step - loss: 0.0794 - accuracy: 0.8128 - val_loss: 0.1082 - val_accuracy: 0.7365\n",
      "Epoch 14/25\n",
      "3852/3852 [==============================] - 13s 3ms/step - loss: 0.0669 - accuracy: 0.8419 - val_loss: 0.0987 - val_accuracy: 0.7604\n",
      "Epoch 15/25\n",
      "3852/3852 [==============================] - 13s 3ms/step - loss: 0.0927 - accuracy: 0.7778 - val_loss: 0.0978 - val_accuracy: 0.7635\n",
      "Epoch 16/25\n",
      "3852/3852 [==============================] - 13s 3ms/step - loss: 0.0647 - accuracy: 0.8440 - val_loss: 0.1081 - val_accuracy: 0.7344\n",
      "Epoch 17/25\n",
      "3852/3852 [==============================] - 13s 3ms/step - loss: 0.0621 - accuracy: 0.8531 - val_loss: 0.0960 - val_accuracy: 0.7656\n",
      "Epoch 18/25\n",
      "3852/3852 [==============================] - 13s 3ms/step - loss: 0.0594 - accuracy: 0.8609 - val_loss: 0.1031 - val_accuracy: 0.7427\n",
      "Epoch 19/25\n",
      "3852/3852 [==============================] - 13s 3ms/step - loss: 0.0576 - accuracy: 0.8640 - val_loss: 0.0869 - val_accuracy: 0.7915\n",
      "Epoch 20/25\n",
      "3852/3852 [==============================] - 13s 3ms/step - loss: 0.0475 - accuracy: 0.8868 - val_loss: 0.0980 - val_accuracy: 0.7624\n",
      "Epoch 21/25\n",
      "3852/3852 [==============================] - 13s 3ms/step - loss: 0.0473 - accuracy: 0.8904 - val_loss: 0.0815 - val_accuracy: 0.8029\n",
      "Epoch 22/25\n",
      "3852/3852 [==============================] - 13s 3ms/step - loss: 0.0462 - accuracy: 0.8897 - val_loss: 0.0771 - val_accuracy: 0.8154\n",
      "Epoch 23/25\n",
      "3852/3852 [==============================] - 13s 3ms/step - loss: 0.0450 - accuracy: 0.8923 - val_loss: 0.0817 - val_accuracy: 0.8029\n",
      "Epoch 24/25\n",
      "3852/3852 [==============================] - 13s 3ms/step - loss: 0.0478 - accuracy: 0.8850 - val_loss: 0.0743 - val_accuracy: 0.8185\n",
      "Epoch 25/25\n",
      "3852/3852 [==============================] - 13s 3ms/step - loss: 0.0415 - accuracy: 0.9024 - val_loss: 0.0762 - val_accuracy: 0.8143\n"
     ]
    }
   ],
   "source": [
    "history = model.fit(X_train, y, epochs=25, batch_size=128, verbose=1, validation_split=0.2)"
   ]
  },
  {
   "cell_type": "code",
   "execution_count": 196,
   "metadata": {},
   "outputs": [
    {
     "data": {
      "image/png": "[encoded data removed]",
      "text/plain": [
       "<Figure size 432x288 with 1 Axes>"
      ]
     },
     "metadata": {
      "needs_background": "light"
     },
     "output_type": "display_data"
    },
    {
     "data": {
      "image/png": "[encoded data removed]",
      "text/plain": [
       "<Figure size 432x288 with 1 Axes>"
      ]
     },
     "metadata": {
      "needs_background": "light"
     },
     "output_type": "display_data"
    }
   ],
   "source": [
    "import matplotlib.pyplot as plt\n",
    "\n",
    "# Plot training & validation accuracy values\n",
    "plt.plot(history.history['accuracy'])\n",
    "plt.plot(history.history['val_accuracy'])\n",
    "plt.title('Model accuracy')\n",
    "plt.ylabel('Accuracy')\n",
    "plt.xlabel('Epoch')\n",
    "plt.legend(['Train', 'Test'], loc='upper left')\n",
    "plt.show()\n",
    "\n",
    "# Plot training & validation loss values\n",
    "plt.plot(history.history['loss'])\n",
    "plt.plot(history.history['val_loss'])\n",
    "plt.title('Model loss')\n",
    "plt.ylabel('Loss')\n",
    "plt.xlabel('Epoch')\n",
    "plt.legend(['Train', 'Test'], loc='upper left')\n",
    "plt.show()"
   ]
  },
  {
   "cell_type": "code",
   "execution_count": 197,
   "metadata": {},
   "outputs": [
    {
     "name": "stdout",
     "output_type": "stream",
     "text": [
      "\r",
      "27/27 [==============================] - 0s 1ms/step\n"
     ]
    }
   ],
   "source": [
    "loss_and_metrics = model.evaluate(X_test, y2, batch_size=128)"
   ]
  },
  {
   "cell_type": "code",
   "execution_count": 198,
   "metadata": {},
   "outputs": [],
   "source": [
    "pred = model.predict(X_test, batch_size=128)"
   ]
  },
  {
   "cell_type": "code",
   "execution_count": 199,
   "metadata": {},
   "outputs": [
    {
     "data": {
      "text/plain": [
       "array([3, 3, 3, 5, 1, 4, 3, 5, 1, 1, 1, 1, 3, 4, 1, 4, 3, 3, 4, 1, 4, 3,\n",
       "       5, 2, 5, 5, 2])"
      ]
     },
     "execution_count": 199,
     "metadata": {},
     "output_type": "execute_result"
    }
   ],
   "source": [
    "pr = np.argmax(pred, axis=1)+1\n",
    "pr"
   ]
  },
  {
   "cell_type": "code",
   "execution_count": 200,
   "metadata": {},
   "outputs": [
    {
     "name": "stdout",
     "output_type": "stream",
     "text": [
      "Accuracy: 70.37037037037037%\n"
     ]
    }
   ],
   "source": [
    "correct = [1 if a == b else 0 for (a, b) in zip(pr, actualVal)]\n",
    "accuracy = (sum(map(int, correct)) / float(len(correct)))\n",
    "print (\"Accuracy: \" + str(accuracy * 100) + \"%\")"
   ]
  },
  {
   "cell_type": "code",
   "execution_count": 201,
   "metadata": {},
   "outputs": [],
   "source": [
    "for i in pred:\n",
    "    count = sum(i)\n",
    "    for j in range(len(i)):\n",
    "        i[j] = i[j] / count"
   ]
  },
  {
   "cell_type": "code",
   "execution_count": 202,
   "metadata": {},
   "outputs": [],
   "source": [
    "import copy\n",
    "countGrade = copy.deepcopy(actualVal)\n"
   ]
  },
  {
   "cell_type": "code",
   "execution_count": 203,
   "metadata": {},
   "outputs": [],
   "source": [
    "for i in range(len(countGrade)):\n",
    "    ans = actualVal[i]\n",
    "    countGrade[i] = pred[i][ans-1]"
   ]
  },
  {
   "cell_type": "code",
   "execution_count": 204,
   "metadata": {},
   "outputs": [
    {
     "data": {
      "text/plain": [
       "0.7018354221988472"
      ]
     },
     "execution_count": 204,
     "metadata": {},
     "output_type": "execute_result"
    }
   ],
   "source": [
    "result = sum(countGrade) / len(countGrade)\n",
    "result"
   ]
  },
  {
   "cell_type": "code",
   "execution_count": null,
   "metadata": {},
   "outputs": [],
   "source": []
  }
 ],
 "metadata": {
  "kernelspec": {
   "display_name": "Python 3",
   "language": "python",
   "name": "python3"
  },
  "language_info": {
   "codemirror_mode": {
    "name": "ipython",
    "version": 3
   },
   "file_extension": ".py",
   "mimetype": "text/x-python",
   "name": "python",
   "nbconvert_exporter": "python",
   "pygments_lexer": "ipython3",
   "version": "3.7.6"
  }
 },
 "nbformat": 4,
 "nbformat_minor": 4
}
