{
 "cells": [
  {
   "cell_type": "code",
   "execution_count": 1,
   "metadata": {},
   "outputs": [
    {
     "name": "stdout",
     "output_type": "stream",
     "text": [
      "[new value of  10\n",
      "-new value of  12\n",
      "--new value of  38\n",
      "---------------new value of  48\n",
      "------"
     ]
    },
    {
     "name": "stderr",
     "output_type": "stream",
     "text": [
      "/home/rezi/Desktop/Machine Learning/ML_Final_project/DataProvider.py:135: RuntimeWarning: invalid value encountered in true_divide\n",
      "  spectrogram = (spectrogram - mean) / std\n"
     ]
    },
    {
     "name": "stdout",
     "output_type": "stream",
     "text": [
      "-------new value of  64\n",
      "---------------------------------------------------new value of  65\n",
      "------------------------------------------------------------------------------------------------------------------------------------------------------------------------------------------------------------------------------------new value of  72\n",
      "------------------------------------------------------------------------------------------------------------------------------------------------------------------------------------------------------------------------------------------------------------------------------------------------------------------------------------------------------------------------------------------]\n",
      "[################################################################################################################################################################################################################################################################################################################################################################################################################################################################################################################################################################################################################################################################################################################]\n",
      "[---------------------------]\n",
      "[###########################]\n"
     ]
    }
   ],
   "source": [
    "import DataProvider\n",
    "prov = DataProvider.DataProvider()"
   ]
  },
  {
   "cell_type": "code",
   "execution_count": 2,
   "metadata": {},
   "outputs": [],
   "source": [
    "import numpy as np\n",
    "X = list()\n",
    "y = list()\n",
    "trainVal = list()"
   ]
  },
  {
   "cell_type": "code",
   "execution_count": 3,
   "metadata": {},
   "outputs": [],
   "source": [
    "while prov.hasNext(True):\n",
    "    Xt, yt = prov.next(True)\n",
    "    for i in range(len(yt)):\n",
    "        if yt[i] == 1:\n",
    "            trainVal.append(i+1)\n",
    "            \n",
    "    X.append(Xt)\n",
    "    y.append(yt)"
   ]
  },
  {
   "cell_type": "code",
   "execution_count": 4,
   "metadata": {},
   "outputs": [
    {
     "data": {
      "text/plain": [
       "((688, 1440), (688, 5))"
      ]
     },
     "execution_count": 4,
     "metadata": {},
     "output_type": "execute_result"
    }
   ],
   "source": [
    "X = np.nan_to_num(np.matrix(X))\n",
    "y = np.matrix(y)\n",
    "\n",
    "X.shape, y.shape"
   ]
  },
  {
   "cell_type": "code",
   "execution_count": 5,
   "metadata": {},
   "outputs": [],
   "source": [
    "X2 = list()\n",
    "y2 = list()\n",
    "actualVal = list()"
   ]
  },
  {
   "cell_type": "code",
   "execution_count": 6,
   "metadata": {},
   "outputs": [],
   "source": [
    "while prov.hasNext(False):\n",
    "    X2t, y2t = prov.next(False)\n",
    "    actualVal.append(y2t)\n",
    "    \n",
    "    k = np.zeros(5)\n",
    "    k[y2t - 1] = 1\n",
    "    \n",
    "    X2.append(X2t)\n",
    "    y2.append(k)"
   ]
  },
  {
   "cell_type": "code",
   "execution_count": 7,
   "metadata": {},
   "outputs": [
    {
     "data": {
      "text/plain": [
       "((27, 1440), (27, 5))"
      ]
     },
     "execution_count": 7,
     "metadata": {},
     "output_type": "execute_result"
    }
   ],
   "source": [
    "X2 = np.nan_to_num(np.matrix(X2))\n",
    "y2 = np.matrix(y2)\n",
    "\n",
    "X2.shape, y2.shape"
   ]
  },
  {
   "cell_type": "code",
   "execution_count": 420,
   "metadata": {},
   "outputs": [],
   "source": [
    "import keras\n",
    "from keras.models import Sequential\n",
    "from keras.layers import Dense\n",
    "from keras import optimizers"
   ]
  },
  {
   "cell_type": "code",
   "execution_count": 421,
   "metadata": {},
   "outputs": [],
   "source": [
    "model = Sequential()\n",
    "sgd = optimizers.SGD(lr=0.005, decay=1e-6, momentum=0.9, nesterov=True)"
   ]
  },
  {
   "cell_type": "code",
   "execution_count": 422,
   "metadata": {},
   "outputs": [],
   "source": [
    "model.add(Dense(units=32, activation='relu', input_dim = prov.returnSizeOfEverySpectogram()))\n",
    "model.add(Dense(32, activation='relu'))\n",
    "model.add(Dense(32, activation='relu'))\n",
    "model.add(Dense(32, activation='relu'))\n",
    "#model.add(Dense(32))\n",
    "model.add(Dense(units=5, activation='softmax'))"
   ]
  },
  {
   "cell_type": "code",
   "execution_count": 423,
   "metadata": {},
   "outputs": [],
   "source": [
    "model.compile(loss='categorical_crossentropy',\n",
    "              optimizer=sgd,\n",
    "              metrics=['accuracy'])"
   ]
  },
  {
   "cell_type": "code",
   "execution_count": 424,
   "metadata": {},
   "outputs": [
    {
     "name": "stdout",
     "output_type": "stream",
     "text": [
      "Train on 550 samples, validate on 138 samples\n",
      "Epoch 1/25\n",
      "550/550 [==============================] - 0s 241us/step - loss: 1.6112 - accuracy: 0.2055 - val_loss: 1.6187 - val_accuracy: 0.2174\n",
      "Epoch 2/25\n",
      "550/550 [==============================] - 0s 30us/step - loss: 1.6007 - accuracy: 0.2236 - val_loss: 1.6159 - val_accuracy: 0.2029\n",
      "Epoch 3/25\n",
      "550/550 [==============================] - 0s 64us/step - loss: 1.5861 - accuracy: 0.2618 - val_loss: 1.6123 - val_accuracy: 0.2029\n",
      "Epoch 4/25\n",
      "550/550 [==============================] - 0s 69us/step - loss: 1.5693 - accuracy: 0.3091 - val_loss: 1.6082 - val_accuracy: 0.2101\n",
      "Epoch 5/25\n",
      "550/550 [==============================] - 0s 66us/step - loss: 1.5511 - accuracy: 0.3818 - val_loss: 1.6031 - val_accuracy: 0.2101\n",
      "Epoch 6/25\n",
      "550/550 [==============================] - 0s 70us/step - loss: 1.5316 - accuracy: 0.4327 - val_loss: 1.5965 - val_accuracy: 0.1884\n",
      "Epoch 7/25\n",
      "550/550 [==============================] - 0s 68us/step - loss: 1.5108 - accuracy: 0.4545 - val_loss: 1.5882 - val_accuracy: 0.2174\n",
      "Epoch 8/25\n",
      "550/550 [==============================] - 0s 57us/step - loss: 1.4853 - accuracy: 0.4818 - val_loss: 1.5772 - val_accuracy: 0.2101\n",
      "Epoch 9/25\n",
      "550/550 [==============================] - 0s 94us/step - loss: 1.4575 - accuracy: 0.4927 - val_loss: 1.5634 - val_accuracy: 0.2319\n",
      "Epoch 10/25\n",
      "550/550 [==============================] - 0s 71us/step - loss: 1.4242 - accuracy: 0.5000 - val_loss: 1.5454 - val_accuracy: 0.2391\n",
      "Epoch 11/25\n",
      "550/550 [==============================] - 0s 62us/step - loss: 1.3884 - accuracy: 0.5091 - val_loss: 1.5244 - val_accuracy: 0.2609\n",
      "Epoch 12/25\n",
      "550/550 [==============================] - 0s 61us/step - loss: 1.3475 - accuracy: 0.5291 - val_loss: 1.5013 - val_accuracy: 0.2826\n",
      "Epoch 13/25\n",
      "550/550 [==============================] - 0s 73us/step - loss: 1.3036 - accuracy: 0.5418 - val_loss: 1.4777 - val_accuracy: 0.2899\n",
      "Epoch 14/25\n",
      "550/550 [==============================] - 0s 96us/step - loss: 1.2564 - accuracy: 0.5655 - val_loss: 1.4530 - val_accuracy: 0.2971\n",
      "Epoch 15/25\n",
      "550/550 [==============================] - 0s 71us/step - loss: 1.2058 - accuracy: 0.5836 - val_loss: 1.4276 - val_accuracy: 0.3188\n",
      "Epoch 16/25\n",
      "550/550 [==============================] - 0s 73us/step - loss: 1.1540 - accuracy: 0.6000 - val_loss: 1.4008 - val_accuracy: 0.3261\n",
      "Epoch 17/25\n",
      "550/550 [==============================] - 0s 60us/step - loss: 1.0987 - accuracy: 0.6309 - val_loss: 1.3707 - val_accuracy: 0.3696\n",
      "Epoch 18/25\n",
      "550/550 [==============================] - 0s 51us/step - loss: 1.0413 - accuracy: 0.6709 - val_loss: 1.3390 - val_accuracy: 0.4203\n",
      "Epoch 19/25\n",
      "550/550 [==============================] - 0s 83us/step - loss: 0.9815 - accuracy: 0.7145 - val_loss: 1.3008 - val_accuracy: 0.4638\n",
      "Epoch 20/25\n",
      "550/550 [==============================] - 0s 71us/step - loss: 0.9163 - accuracy: 0.7382 - val_loss: 1.2585 - val_accuracy: 0.4855\n",
      "Epoch 21/25\n",
      "550/550 [==============================] - 0s 74us/step - loss: 0.8474 - accuracy: 0.7727 - val_loss: 1.2126 - val_accuracy: 0.5000\n",
      "Epoch 22/25\n",
      "550/550 [==============================] - 0s 111us/step - loss: 0.7776 - accuracy: 0.7982 - val_loss: 1.1699 - val_accuracy: 0.5362\n",
      "Epoch 23/25\n",
      "550/550 [==============================] - 0s 91us/step - loss: 0.7078 - accuracy: 0.8291 - val_loss: 1.1340 - val_accuracy: 0.5507\n",
      "Epoch 24/25\n",
      "550/550 [==============================] - 0s 97us/step - loss: 0.6428 - accuracy: 0.8436 - val_loss: 1.1081 - val_accuracy: 0.5652\n",
      "Epoch 25/25\n",
      "550/550 [==============================] - 0s 87us/step - loss: 0.5816 - accuracy: 0.8564 - val_loss: 1.0975 - val_accuracy: 0.5797\n"
     ]
    }
   ],
   "source": [
    "history = model.fit(X, y, epochs=25, batch_size=128, validation_split=0.2, verbose=1)\n",
    "#model.train_on_batch(X, y)"
   ]
  },
  {
   "cell_type": "code",
   "execution_count": 425,
   "metadata": {},
   "outputs": [
    {
     "data": {
      "image/png": "[encoded data removed]",
      "text/plain": [
       "<Figure size 432x288 with 1 Axes>"
      ]
     },
     "metadata": {
      "needs_background": "light"
     },
     "output_type": "display_data"
    },
    {
     "data": {
      "image/png": "[encoded data removed]",
      "text/plain": [
       "<Figure size 432x288 with 1 Axes>"
      ]
     },
     "metadata": {
      "needs_background": "light"
     },
     "output_type": "display_data"
    }
   ],
   "source": [
    "import matplotlib.pyplot as plt\n",
    "\n",
    "# Plot training & validation accuracy values\n",
    "plt.plot(history.history['accuracy'])\n",
    "plt.plot(history.history['val_accuracy'])\n",
    "plt.title('Model accuracy')\n",
    "plt.ylabel('Accuracy')\n",
    "plt.xlabel('Epoch')\n",
    "plt.legend(['Train', 'Test'], loc='upper left')\n",
    "plt.show()\n",
    "\n",
    "# Plot training & validation loss values\n",
    "plt.plot(history.history['loss'])\n",
    "plt.plot(history.history['val_loss'])\n",
    "plt.title('Model loss')\n",
    "plt.ylabel('Loss')\n",
    "plt.xlabel('Epoch')\n",
    "plt.legend(['Train', 'Test'], loc='upper left')\n",
    "plt.show()"
   ]
  },
  {
   "cell_type": "code",
   "execution_count": 426,
   "metadata": {},
   "outputs": [
    {
     "name": "stdout",
     "output_type": "stream",
     "text": [
      "\r",
      "27/27 [==============================] - 0s 93us/step\n"
     ]
    }
   ],
   "source": [
    "loss_and_metrics = model.evaluate(X2, y2, batch_size=512)"
   ]
  },
  {
   "cell_type": "code",
   "execution_count": 427,
   "metadata": {},
   "outputs": [],
   "source": [
    "pred = model.predict(X2, batch_size=128)"
   ]
  },
  {
   "cell_type": "code",
   "execution_count": 428,
   "metadata": {},
   "outputs": [
    {
     "data": {
      "text/plain": [
       "array([4, 5, 5, 5, 4, 5, 5, 1, 5, 2, 4, 3, 5, 5, 5, 3, 1, 5, 3, 5, 4, 3,\n",
       "       5, 5, 2, 5, 1])"
      ]
     },
     "execution_count": 428,
     "metadata": {},
     "output_type": "execute_result"
    }
   ],
   "source": [
    "pr = np.argmax(pred, axis=1)+1\n",
    "pr"
   ]
  },
  {
   "cell_type": "code",
   "execution_count": 429,
   "metadata": {},
   "outputs": [
    {
     "name": "stdout",
     "output_type": "stream",
     "text": [
      "Accuracy: 59.25925925925925%\n"
     ]
    }
   ],
   "source": [
    "correct = [1 if a == b else 0 for (a, b) in zip(pr, actualVal)]\n",
    "accuracy = (sum(map(int, correct)) / float(len(correct)))\n",
    "print (\"Accuracy: \" + str(accuracy * 100) + \"%\")"
   ]
  },
  {
   "cell_type": "code",
   "execution_count": 430,
   "metadata": {},
   "outputs": [],
   "source": [
    "for i in pred:\n",
    "    count = sum(i)\n",
    "    for j in range(len(i)):\n",
    "        i[j] = i[j] / count"
   ]
  },
  {
   "cell_type": "code",
   "execution_count": 431,
   "metadata": {},
   "outputs": [],
   "source": [
    "import copy\n",
    "countGrade = copy.deepcopy(actualVal)\n"
   ]
  },
  {
   "cell_type": "code",
   "execution_count": 432,
   "metadata": {},
   "outputs": [],
   "source": [
    "for i in range(len(countGrade)):\n",
    "    ans = actualVal[i]\n",
    "    countGrade[i] = pred[i][ans-1]"
   ]
  },
  {
   "cell_type": "code",
   "execution_count": 433,
   "metadata": {},
   "outputs": [
    {
     "data": {
      "text/plain": [
       "0.40369327559515283"
      ]
     },
     "execution_count": 433,
     "metadata": {},
     "output_type": "execute_result"
    }
   ],
   "source": [
    "result = sum(countGrade) / len(countGrade)\n",
    "result"
   ]
  },
  {
   "cell_type": "code",
   "execution_count": 434,
   "metadata": {},
   "outputs": [
    {
     "name": "stdout",
     "output_type": "stream",
     "text": [
      "Model: \"sequential_28\"\n",
      "_________________________________________________________________\n",
      "Layer (type)                 Output Shape              Param #   \n",
      "=================================================================\n",
      "dense_132 (Dense)            (None, 32)                46112     \n",
      "_________________________________________________________________\n",
      "dense_133 (Dense)            (None, 32)                1056      \n",
      "_________________________________________________________________\n",
      "dense_134 (Dense)            (None, 32)                1056      \n",
      "_________________________________________________________________\n",
      "dense_135 (Dense)            (None, 32)                1056      \n",
      "_________________________________________________________________\n",
      "dense_136 (Dense)            (None, 5)                 165       \n",
      "=================================================================\n",
      "Total params: 49,445\n",
      "Trainable params: 49,445\n",
      "Non-trainable params: 0\n",
      "_________________________________________________________________\n"
     ]
    }
   ],
   "source": [
    "model.summary()"
   ]
  },
  {
   "cell_type": "code",
   "execution_count": null,
   "metadata": {},
   "outputs": [],
   "source": []
  },
  {
   "cell_type": "code",
   "execution_count": null,
   "metadata": {},
   "outputs": [],
   "source": []
  }
 ],
 "metadata": {
  "kernelspec": {
   "display_name": "Python 3",
   "language": "python",
   "name": "python3"
  },
  "language_info": {
   "codemirror_mode": {
    "name": "ipython",
    "version": 3
   },
   "file_extension": ".py",
   "mimetype": "text/x-python",
   "name": "python",
   "nbconvert_exporter": "python",
   "pygments_lexer": "ipython3",
   "version": "3.7.6"
  }
 },
 "nbformat": 4,
 "nbformat_minor": 4
}
