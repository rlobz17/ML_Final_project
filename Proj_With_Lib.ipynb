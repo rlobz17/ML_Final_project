{
 "cells": [
  {
   "cell_type": "code",
   "execution_count": 1,
   "metadata": {},
   "outputs": [
    {
     "name": "stdout",
     "output_type": "stream",
     "text": [
      "[new value of  13\n",
      "--new value of  15\n",
      "-new value of  29\n",
      "--new value of  35\n",
      "------------new value of  44\n",
      "-----------"
     ]
    },
    {
     "name": "stderr",
     "output_type": "stream",
     "text": [
      "/home/rezi/Desktop/Machine Learning/ML_Final_project/DataProvider.py:135: RuntimeWarning: invalid value encountered in true_divide\n",
      "  spectrogram = (spectrogram - mean) / std\n"
     ]
    },
    {
     "name": "stdout",
     "output_type": "stream",
     "text": [
      "----new value of  55\n",
      "----------------------new value of  72\n",
      "----------------------------------------------------------------------------------------------------------------------------------------------------------------------------------------------------------------------------------------------------------------------------------------------------------------------------------------------------------------------------------------------------------------------------------------------------------------------------------------------------------------------------------------------------------------------------------------------------------------------------------------------------------]\n",
      "[################################################################################################################################################################################################################################################################################################################################################################################################################################################################################################################################################################################################################################################################################################################]\n",
      "[--------]\n",
      "[########]\n"
     ]
    }
   ],
   "source": [
    "import DataProvider\n",
    "prov = DataProvider.DataProvider()"
   ]
  },
  {
   "cell_type": "code",
   "execution_count": 2,
   "metadata": {},
   "outputs": [],
   "source": [
    "import numpy as np\n",
    "X = list()\n",
    "y = list()\n",
    "trainVal = list()"
   ]
  },
  {
   "cell_type": "code",
   "execution_count": 3,
   "metadata": {},
   "outputs": [],
   "source": [
    "while prov.hasNext(True):\n",
    "    Xt, yt = prov.next(True)\n",
    "    for i in range(len(yt)):\n",
    "        if yt[i] == 1:\n",
    "            trainVal.append(i+1)\n",
    "            \n",
    "    X.append(Xt)\n",
    "    y.append(yt)"
   ]
  },
  {
   "cell_type": "code",
   "execution_count": 4,
   "metadata": {},
   "outputs": [
    {
     "data": {
      "text/plain": [
       "((688, 1440), (688, 5))"
      ]
     },
     "execution_count": 4,
     "metadata": {},
     "output_type": "execute_result"
    }
   ],
   "source": [
    "X = np.nan_to_num(np.matrix(X))\n",
    "y = np.matrix(y)\n",
    "\n",
    "X.shape, y.shape"
   ]
  },
  {
   "cell_type": "code",
   "execution_count": 5,
   "metadata": {},
   "outputs": [],
   "source": [
    "X2 = list()\n",
    "y2 = list()\n",
    "actualVal = list()"
   ]
  },
  {
   "cell_type": "code",
   "execution_count": 6,
   "metadata": {},
   "outputs": [],
   "source": [
    "while prov.hasNext(False):\n",
    "    X2t, y2t = prov.next(False)\n",
    "    actualVal.append(y2t)\n",
    "    \n",
    "    k = np.zeros(5)\n",
    "    k[y2t - 1] = 1\n",
    "    \n",
    "    X2.append(X2t)\n",
    "    y2.append(k)"
   ]
  },
  {
   "cell_type": "code",
   "execution_count": 7,
   "metadata": {},
   "outputs": [
    {
     "data": {
      "text/plain": [
       "((8, 1440), (8, 5))"
      ]
     },
     "execution_count": 7,
     "metadata": {},
     "output_type": "execute_result"
    }
   ],
   "source": [
    "X2 = np.nan_to_num(np.matrix(X2))\n",
    "y2 = np.matrix(y2)\n",
    "\n",
    "X2.shape, y2.shape"
   ]
  },
  {
   "cell_type": "code",
   "execution_count": 8,
   "metadata": {},
   "outputs": [
    {
     "data": {
      "text/plain": [
       "1440"
      ]
     },
     "execution_count": 8,
     "metadata": {},
     "output_type": "execute_result"
    }
   ],
   "source": [
    "prov.returnSizeOfEverySpectogram()"
   ]
  },
  {
   "cell_type": "code",
   "execution_count": 24,
   "metadata": {},
   "outputs": [],
   "source": [
    "import keras\n",
    "from keras.models import Sequential\n",
    "from keras.layers import Dense"
   ]
  },
  {
   "cell_type": "code",
   "execution_count": 25,
   "metadata": {},
   "outputs": [],
   "source": [
    "model = Sequential()"
   ]
  },
  {
   "cell_type": "code",
   "execution_count": 26,
   "metadata": {},
   "outputs": [],
   "source": [
    "model.add(Dense(units=64, activation='relu', input_dim = prov.returnSizeOfEverySpectogram()))\n",
    "model.add(Dense(128))\n",
    "model.add(Dense(32))\n",
    "model.add(Dense(units=5, activation='softmax'))"
   ]
  },
  {
   "cell_type": "code",
   "execution_count": 27,
   "metadata": {},
   "outputs": [],
   "source": [
    "model.compile(loss='categorical_crossentropy',\n",
    "              optimizer='sgd',\n",
    "              metrics=['accuracy'])"
   ]
  },
  {
   "cell_type": "code",
   "execution_count": 28,
   "metadata": {},
   "outputs": [
    {
     "name": "stdout",
     "output_type": "stream",
     "text": [
      "Epoch 1/100\n",
      "688/688 [==============================] - 0s 119us/step - loss: 1.6525 - accuracy: 0.2645\n",
      "Epoch 2/100\n",
      "688/688 [==============================] - 0s 56us/step - loss: 1.5490 - accuracy: 0.3387\n",
      "Epoch 3/100\n",
      "688/688 [==============================] - 0s 55us/step - loss: 1.4638 - accuracy: 0.3983\n",
      "Epoch 4/100\n",
      "688/688 [==============================] - 0s 51us/step - loss: 1.3915 - accuracy: 0.4506\n",
      "Epoch 5/100\n",
      "688/688 [==============================] - 0s 46us/step - loss: 1.3268 - accuracy: 0.5029\n",
      "Epoch 6/100\n",
      "688/688 [==============================] - 0s 74us/step - loss: 1.2670 - accuracy: 0.5363\n",
      "Epoch 7/100\n",
      "688/688 [==============================] - 0s 50us/step - loss: 1.2136 - accuracy: 0.5698\n",
      "Epoch 8/100\n",
      "688/688 [==============================] - 0s 52us/step - loss: 1.1622 - accuracy: 0.6003\n",
      "Epoch 9/100\n",
      "688/688 [==============================] - 0s 50us/step - loss: 1.1158 - accuracy: 0.6206\n",
      "Epoch 10/100\n",
      "688/688 [==============================] - 0s 46us/step - loss: 1.0718 - accuracy: 0.6352\n",
      "Epoch 11/100\n",
      "688/688 [==============================] - 0s 49us/step - loss: 1.0297 - accuracy: 0.6584\n",
      "Epoch 12/100\n",
      "688/688 [==============================] - 0s 50us/step - loss: 0.9909 - accuracy: 0.6642\n",
      "Epoch 13/100\n",
      "688/688 [==============================] - 0s 57us/step - loss: 0.9550 - accuracy: 0.6860\n",
      "Epoch 14/100\n",
      "688/688 [==============================] - 0s 60us/step - loss: 0.9198 - accuracy: 0.7035\n",
      "Epoch 15/100\n",
      "688/688 [==============================] - 0s 49us/step - loss: 0.8876 - accuracy: 0.7108\n",
      "Epoch 16/100\n",
      "688/688 [==============================] - 0s 72us/step - loss: 0.8566 - accuracy: 0.7238\n",
      "Epoch 17/100\n",
      "688/688 [==============================] - 0s 62us/step - loss: 0.8271 - accuracy: 0.7297\n",
      "Epoch 18/100\n",
      "688/688 [==============================] - 0s 57us/step - loss: 0.7985 - accuracy: 0.7471\n",
      "Epoch 19/100\n",
      "688/688 [==============================] - 0s 65us/step - loss: 0.7716 - accuracy: 0.7660\n",
      "Epoch 20/100\n",
      "688/688 [==============================] - 0s 58us/step - loss: 0.7451 - accuracy: 0.7733\n",
      "Epoch 21/100\n",
      "688/688 [==============================] - 0s 48us/step - loss: 0.7200 - accuracy: 0.7922\n",
      "Epoch 22/100\n",
      "688/688 [==============================] - 0s 51us/step - loss: 0.6954 - accuracy: 0.7980\n",
      "Epoch 23/100\n",
      "688/688 [==============================] - 0s 47us/step - loss: 0.6719 - accuracy: 0.8154\n",
      "Epoch 24/100\n",
      "688/688 [==============================] - 0s 53us/step - loss: 0.6499 - accuracy: 0.8212\n",
      "Epoch 25/100\n",
      "688/688 [==============================] - 0s 63us/step - loss: 0.6278 - accuracy: 0.8256\n",
      "Epoch 26/100\n",
      "688/688 [==============================] - 0s 53us/step - loss: 0.6066 - accuracy: 0.8241\n",
      "Epoch 27/100\n",
      "688/688 [==============================] - 0s 48us/step - loss: 0.5868 - accuracy: 0.8328\n",
      "Epoch 28/100\n",
      "688/688 [==============================] - 0s 56us/step - loss: 0.5669 - accuracy: 0.8401\n",
      "Epoch 29/100\n",
      "688/688 [==============================] - 0s 58us/step - loss: 0.5479 - accuracy: 0.8459\n",
      "Epoch 30/100\n",
      "688/688 [==============================] - 0s 39us/step - loss: 0.5295 - accuracy: 0.8576\n",
      "Epoch 31/100\n",
      "688/688 [==============================] - 0s 47us/step - loss: 0.5117 - accuracy: 0.8605\n",
      "Epoch 32/100\n",
      "688/688 [==============================] - 0s 45us/step - loss: 0.4953 - accuracy: 0.8735\n",
      "Epoch 33/100\n",
      "688/688 [==============================] - 0s 99us/step - loss: 0.4795 - accuracy: 0.8706\n",
      "Epoch 34/100\n",
      "688/688 [==============================] - 0s 81us/step - loss: 0.4633 - accuracy: 0.8765\n",
      "Epoch 35/100\n",
      "688/688 [==============================] - 0s 66us/step - loss: 0.4480 - accuracy: 0.8823\n",
      "Epoch 36/100\n",
      "688/688 [==============================] - 0s 77us/step - loss: 0.4334 - accuracy: 0.8866\n",
      "Epoch 37/100\n",
      "688/688 [==============================] - 0s 62us/step - loss: 0.4188 - accuracy: 0.8953\n",
      "Epoch 38/100\n",
      "688/688 [==============================] - 0s 53us/step - loss: 0.4051 - accuracy: 0.8997\n",
      "Epoch 39/100\n",
      "688/688 [==============================] - 0s 56us/step - loss: 0.3915 - accuracy: 0.9099\n",
      "Epoch 40/100\n",
      "688/688 [==============================] - 0s 56us/step - loss: 0.3786 - accuracy: 0.9186\n",
      "Epoch 41/100\n",
      "688/688 [==============================] - 0s 64us/step - loss: 0.3669 - accuracy: 0.9142\n",
      "Epoch 42/100\n",
      "688/688 [==============================] - 0s 55us/step - loss: 0.3547 - accuracy: 0.9230\n",
      "Epoch 43/100\n",
      "688/688 [==============================] - 0s 54us/step - loss: 0.3435 - accuracy: 0.9331\n",
      "Epoch 44/100\n",
      "688/688 [==============================] - 0s 68us/step - loss: 0.3326 - accuracy: 0.9404\n",
      "Epoch 45/100\n",
      "688/688 [==============================] - 0s 53us/step - loss: 0.3218 - accuracy: 0.9404\n",
      "Epoch 46/100\n",
      "688/688 [==============================] - 0s 45us/step - loss: 0.3117 - accuracy: 0.9462\n",
      "Epoch 47/100\n",
      "688/688 [==============================] - 0s 72us/step - loss: 0.3022 - accuracy: 0.9520\n",
      "Epoch 48/100\n",
      "688/688 [==============================] - 0s 58us/step - loss: 0.2927 - accuracy: 0.9535\n",
      "Epoch 49/100\n",
      "688/688 [==============================] - 0s 68us/step - loss: 0.2835 - accuracy: 0.9593\n",
      "Epoch 50/100\n",
      "688/688 [==============================] - 0s 77us/step - loss: 0.2748 - accuracy: 0.9651\n",
      "Epoch 51/100\n",
      "688/688 [==============================] - 0s 79us/step - loss: 0.2665 - accuracy: 0.9651\n",
      "Epoch 52/100\n",
      "688/688 [==============================] - 0s 44us/step - loss: 0.2584 - accuracy: 0.9666\n",
      "Epoch 53/100\n",
      "688/688 [==============================] - 0s 85us/step - loss: 0.2507 - accuracy: 0.9666\n",
      "Epoch 54/100\n",
      "688/688 [==============================] - 0s 56us/step - loss: 0.2434 - accuracy: 0.9695\n",
      "Epoch 55/100\n",
      "688/688 [==============================] - 0s 49us/step - loss: 0.2362 - accuracy: 0.9709\n",
      "Epoch 56/100\n",
      "688/688 [==============================] - 0s 56us/step - loss: 0.2293 - accuracy: 0.9724\n",
      "Epoch 57/100\n",
      "688/688 [==============================] - 0s 45us/step - loss: 0.2228 - accuracy: 0.9709\n",
      "Epoch 58/100\n",
      "688/688 [==============================] - 0s 63us/step - loss: 0.2166 - accuracy: 0.9738\n",
      "Epoch 59/100\n",
      "688/688 [==============================] - 0s 47us/step - loss: 0.2104 - accuracy: 0.9738\n",
      "Epoch 60/100\n",
      "688/688 [==============================] - 0s 59us/step - loss: 0.2046 - accuracy: 0.9724\n",
      "Epoch 61/100\n",
      "688/688 [==============================] - 0s 43us/step - loss: 0.1989 - accuracy: 0.9753\n",
      "Epoch 62/100\n",
      "688/688 [==============================] - 0s 56us/step - loss: 0.1936 - accuracy: 0.9767\n",
      "Epoch 63/100\n",
      "688/688 [==============================] - 0s 44us/step - loss: 0.1883 - accuracy: 0.9782\n",
      "Epoch 64/100\n",
      "688/688 [==============================] - 0s 59us/step - loss: 0.1835 - accuracy: 0.9797\n",
      "Epoch 65/100\n",
      "688/688 [==============================] - 0s 46us/step - loss: 0.1786 - accuracy: 0.9797\n",
      "Epoch 66/100\n",
      "688/688 [==============================] - 0s 54us/step - loss: 0.1739 - accuracy: 0.9797\n",
      "Epoch 67/100\n",
      "688/688 [==============================] - 0s 55us/step - loss: 0.1696 - accuracy: 0.9797\n",
      "Epoch 68/100\n",
      "688/688 [==============================] - 0s 48us/step - loss: 0.1654 - accuracy: 0.9797\n",
      "Epoch 69/100\n",
      "688/688 [==============================] - 0s 43us/step - loss: 0.1613 - accuracy: 0.9811\n",
      "Epoch 70/100\n",
      "688/688 [==============================] - 0s 38us/step - loss: 0.1575 - accuracy: 0.9811\n",
      "Epoch 71/100\n",
      "688/688 [==============================] - 0s 41us/step - loss: 0.1538 - accuracy: 0.9811\n",
      "Epoch 72/100\n",
      "688/688 [==============================] - 0s 67us/step - loss: 0.1502 - accuracy: 0.9811\n",
      "Epoch 73/100\n",
      "688/688 [==============================] - 0s 42us/step - loss: 0.1466 - accuracy: 0.9811\n",
      "Epoch 74/100\n",
      "688/688 [==============================] - 0s 55us/step - loss: 0.1431 - accuracy: 0.9811\n",
      "Epoch 75/100\n",
      "688/688 [==============================] - 0s 48us/step - loss: 0.1398 - accuracy: 0.9826\n",
      "Epoch 76/100\n",
      "688/688 [==============================] - 0s 52us/step - loss: 0.1365 - accuracy: 0.9826\n",
      "Epoch 77/100\n",
      "688/688 [==============================] - 0s 47us/step - loss: 0.1335 - accuracy: 0.9826\n",
      "Epoch 78/100\n",
      "688/688 [==============================] - 0s 47us/step - loss: 0.1306 - accuracy: 0.9826\n",
      "Epoch 79/100\n",
      "688/688 [==============================] - 0s 59us/step - loss: 0.1277 - accuracy: 0.9826\n",
      "Epoch 80/100\n"
     ]
    },
    {
     "name": "stdout",
     "output_type": "stream",
     "text": [
      "688/688 [==============================] - 0s 46us/step - loss: 0.1249 - accuracy: 0.9826\n",
      "Epoch 81/100\n",
      "688/688 [==============================] - 0s 44us/step - loss: 0.1223 - accuracy: 0.9840\n",
      "Epoch 82/100\n",
      "688/688 [==============================] - 0s 41us/step - loss: 0.1198 - accuracy: 0.9840\n",
      "Epoch 83/100\n",
      "688/688 [==============================] - 0s 51us/step - loss: 0.1173 - accuracy: 0.9840\n",
      "Epoch 84/100\n",
      "688/688 [==============================] - 0s 47us/step - loss: 0.1150 - accuracy: 0.9855\n",
      "Epoch 85/100\n",
      "688/688 [==============================] - 0s 42us/step - loss: 0.1127 - accuracy: 0.9869\n",
      "Epoch 86/100\n",
      "688/688 [==============================] - 0s 58us/step - loss: 0.1105 - accuracy: 0.9869\n",
      "Epoch 87/100\n",
      "688/688 [==============================] - 0s 50us/step - loss: 0.1083 - accuracy: 0.9869\n",
      "Epoch 88/100\n",
      "688/688 [==============================] - 0s 47us/step - loss: 0.1062 - accuracy: 0.9869\n",
      "Epoch 89/100\n",
      "688/688 [==============================] - 0s 50us/step - loss: 0.1042 - accuracy: 0.9869\n",
      "Epoch 90/100\n",
      "688/688 [==============================] - 0s 47us/step - loss: 0.1023 - accuracy: 0.9869\n",
      "Epoch 91/100\n",
      "688/688 [==============================] - 0s 60us/step - loss: 0.1004 - accuracy: 0.9869\n",
      "Epoch 92/100\n",
      "688/688 [==============================] - 0s 58us/step - loss: 0.0986 - accuracy: 0.9869\n",
      "Epoch 93/100\n",
      "688/688 [==============================] - 0s 48us/step - loss: 0.0969 - accuracy: 0.9869\n",
      "Epoch 94/100\n",
      "688/688 [==============================] - 0s 40us/step - loss: 0.0951 - accuracy: 0.9869\n",
      "Epoch 95/100\n",
      "688/688 [==============================] - 0s 48us/step - loss: 0.0934 - accuracy: 0.9869\n",
      "Epoch 96/100\n",
      "688/688 [==============================] - 0s 42us/step - loss: 0.0918 - accuracy: 0.9884\n",
      "Epoch 97/100\n",
      "688/688 [==============================] - 0s 62us/step - loss: 0.0902 - accuracy: 0.9898\n",
      "Epoch 98/100\n",
      "688/688 [==============================] - 0s 66us/step - loss: 0.0887 - accuracy: 0.9913\n",
      "Epoch 99/100\n",
      "688/688 [==============================] - 0s 46us/step - loss: 0.0871 - accuracy: 0.9913\n",
      "Epoch 100/100\n",
      "688/688 [==============================] - 0s 51us/step - loss: 0.0856 - accuracy: 0.9913\n"
     ]
    },
    {
     "data": {
      "text/plain": [
       "<keras.callbacks.callbacks.History at 0x7fcbd41c6e50>"
      ]
     },
     "execution_count": 28,
     "metadata": {},
     "output_type": "execute_result"
    }
   ],
   "source": [
    "model.fit(X, y, epochs=100, batch_size=128)\n",
    "#model.train_on_batch(X, y)"
   ]
  },
  {
   "cell_type": "code",
   "execution_count": 29,
   "metadata": {},
   "outputs": [
    {
     "name": "stdout",
     "output_type": "stream",
     "text": [
      "688/688 [==============================] - 0s 51us/step\n"
     ]
    }
   ],
   "source": [
    "loss_and_metrics = model.evaluate(X, y, batch_size=128)"
   ]
  },
  {
   "cell_type": "code",
   "execution_count": 30,
   "metadata": {},
   "outputs": [
    {
     "data": {
      "text/plain": [
       "array([[1.9850866e-06, 9.9811208e-01, 2.0709444e-06, 9.5062563e-04,\n",
       "        9.3317905e-04],\n",
       "       [2.1676162e-06, 9.9486625e-01, 1.0079737e-04, 4.5334366e-03,\n",
       "        4.9739203e-04],\n",
       "       [4.2611602e-04, 9.3492906e-04, 1.9225106e-05, 9.8285991e-01,\n",
       "        1.5759928e-02],\n",
       "       ...,\n",
       "       [1.5529246e-02, 3.8537122e-02, 3.2759652e-02, 9.1024446e-01,\n",
       "        2.9295345e-03],\n",
       "       [1.1309568e-03, 4.1021265e-02, 5.1652421e-03, 9.3656003e-01,\n",
       "        1.6122583e-02],\n",
       "       [4.7827894e-03, 1.4741310e-03, 6.3393759e-03, 9.6367747e-01,\n",
       "        2.3726286e-02]], dtype=float32)"
      ]
     },
     "execution_count": 30,
     "metadata": {},
     "output_type": "execute_result"
    }
   ],
   "source": [
    "pred = model.predict(X, batch_size=128)\n",
    "pred"
   ]
  },
  {
   "cell_type": "code",
   "execution_count": 31,
   "metadata": {},
   "outputs": [],
   "source": [
    "pr = np.argmax(pred, axis=1)+1"
   ]
  },
  {
   "cell_type": "code",
   "execution_count": 32,
   "metadata": {},
   "outputs": [
    {
     "data": {
      "text/plain": [
       "list"
      ]
     },
     "execution_count": 32,
     "metadata": {},
     "output_type": "execute_result"
    }
   ],
   "source": [
    "type(trainVal)"
   ]
  },
  {
   "cell_type": "code",
   "execution_count": 33,
   "metadata": {},
   "outputs": [
    {
     "name": "stdout",
     "output_type": "stream",
     "text": [
      "Accuracy: 99.12790697674419%\n"
     ]
    }
   ],
   "source": [
    "correct = [1 if a == b else 0 for (a, b) in zip(pr, trainVal)]\n",
    "accuracy = (sum(map(int, correct)) / float(len(correct)))\n",
    "print (\"Accuracy: \" + str(accuracy * 100) + \"%\")"
   ]
  },
  {
   "cell_type": "code",
   "execution_count": 34,
   "metadata": {},
   "outputs": [],
   "source": [
    "for i in pred:\n",
    "    count = sum(i)\n",
    "    for j in range(len(i)):\n",
    "        i[j] = i[j] / count"
   ]
  },
  {
   "cell_type": "code",
   "execution_count": 35,
   "metadata": {},
   "outputs": [
    {
     "data": {
      "text/plain": [
       "array([[1.9850866e-06, 9.9811214e-01, 2.0709447e-06, 9.5062569e-04,\n",
       "        9.3317911e-04],\n",
       "       [2.1676162e-06, 9.9486619e-01, 1.0079736e-04, 4.5334366e-03,\n",
       "        4.9739203e-04],\n",
       "       [4.2611596e-04, 9.3492895e-04, 1.9225105e-05, 9.8285979e-01,\n",
       "        1.5759926e-02],\n",
       "       ...,\n",
       "       [1.5529246e-02, 3.8537122e-02, 3.2759652e-02, 9.1024446e-01,\n",
       "        2.9295345e-03],\n",
       "       [1.1309567e-03, 4.1021261e-02, 5.1652417e-03, 9.3655998e-01,\n",
       "        1.6122581e-02],\n",
       "       [4.7827894e-03, 1.4741309e-03, 6.3393754e-03, 9.6367741e-01,\n",
       "        2.3726285e-02]], dtype=float32)"
      ]
     },
     "execution_count": 35,
     "metadata": {},
     "output_type": "execute_result"
    }
   ],
   "source": [
    "pred"
   ]
  },
  {
   "cell_type": "code",
   "execution_count": 36,
   "metadata": {},
   "outputs": [],
   "source": [
    "import copy\n",
    "countGrade = copy.deepcopy(trainVal)\n",
    "\n",
    "for i in range(len(countGrade)):\n",
    "    ans = trainVal[i]\n",
    "    countGrade[i] = pred[i][ans-1]"
   ]
  },
  {
   "cell_type": "code",
   "execution_count": 37,
   "metadata": {},
   "outputs": [
    {
     "data": {
      "text/plain": [
       "0.932834284726617"
      ]
     },
     "execution_count": 37,
     "metadata": {},
     "output_type": "execute_result"
    }
   ],
   "source": [
    "result = sum(countGrade) / len(countGrade)\n",
    "result"
   ]
  },
  {
   "cell_type": "code",
   "execution_count": 38,
   "metadata": {},
   "outputs": [
    {
     "name": "stdout",
     "output_type": "stream",
     "text": [
      "Model: \"sequential_2\"\n",
      "_________________________________________________________________\n",
      "Layer (type)                 Output Shape              Param #   \n",
      "=================================================================\n",
      "dense_5 (Dense)              (None, 64)                92224     \n",
      "_________________________________________________________________\n",
      "dense_6 (Dense)              (None, 128)               8320      \n",
      "_________________________________________________________________\n",
      "dense_7 (Dense)              (None, 32)                4128      \n",
      "_________________________________________________________________\n",
      "dense_8 (Dense)              (None, 5)                 165       \n",
      "=================================================================\n",
      "Total params: 104,837\n",
      "Trainable params: 104,837\n",
      "Non-trainable params: 0\n",
      "_________________________________________________________________\n"
     ]
    }
   ],
   "source": [
    "model.summary()"
   ]
  },
  {
   "cell_type": "code",
   "execution_count": null,
   "metadata": {},
   "outputs": [],
   "source": []
  }
 ],
 "metadata": {
  "kernelspec": {
   "display_name": "Python 3",
   "language": "python",
   "name": "python3"
  },
  "language_info": {
   "codemirror_mode": {
    "name": "ipython",
    "version": 3
   },
   "file_extension": ".py",
   "mimetype": "text/x-python",
   "name": "python",
   "nbconvert_exporter": "python",
   "pygments_lexer": "ipython3",
   "version": "3.7.6"
  }
 },
 "nbformat": 4,
 "nbformat_minor": 4
}
