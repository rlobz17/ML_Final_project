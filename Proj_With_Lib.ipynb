{
 "cells": [
  {
   "cell_type": "code",
   "execution_count": 1,
   "metadata": {},
   "outputs": [
    {
     "name": "stdout",
     "output_type": "stream",
     "text": [
      "reading helper data on path: ./Data/Helper/backGround_street.wav\n",
      "reading helper data on path: ./Data/Helper/backGround_noice.wav\n",
      "reading helper data on path: ./Data/Helper/backGround_nature.wav\n",
      "[new value of  19\n",
      "------new value of  40\n",
      "-----new value of  64\n",
      "---------------------------------------------------------------------------------------------------------------------------------------------------------------------------------------------------------------------------------------------------new value of  70\n",
      "------------------------------------------------------------------------------------------------------------------------new value of  72\n",
      "--------------------------------------------------------------------------------------------------------------------------------------------------------------------------------------------------------------------------------------------------------------------------------------------------------------------------]\n",
      "[################################################################################################################################################################################################################################################################################################################################################################################################################################################################################################################################################################################################################################################################################################################################################################################################################################################################################################################################################################################################################################################################################################################################################################################################################################################################################################################################################################################################################################################################################################################################################################################################################################################################################################################################################################################################################################################################################################################################################################################################################################################################################################################################################################################################################################################################################################################################################################################################################################################################################################################################################################################################################################################################################################################################################################################################################################################################################################################################################################################################################################################################################################################################################################################################################################################################################################################################################################################################################################################################################################################################################################################################################################################################################################################################################################################################################################################################################################################################################################################################################################################################################################################################################################################################################################################################################################################################################################################################################################################################################################################################################################################################################################################################################################################################################################################################################################################################################################################################################################################################################################################################################################################################################################################################################################################################################################################################################################################################################################################################################################################################################################################################################################################################################################################################################################################################################################################################################################################################################################################################################################################################################################################################################################################################################################################################################################################################################################################################################################################################################################################################################################################################################################################################################################################################################################################################################################################################################################################################################################################################################################################################################################################################################################]\n",
      "[---------------------------]\n",
      "[###########################]\n"
     ]
    }
   ],
   "source": [
    "import DataProvider\n",
    "prov = DataProvider.DataProvider()"
   ]
  },
  {
   "cell_type": "code",
   "execution_count": 2,
   "metadata": {},
   "outputs": [],
   "source": [
    "import numpy as np\n",
    "X = list()\n",
    "y = list()\n",
    "trainVal = list()"
   ]
  },
  {
   "cell_type": "code",
   "execution_count": 3,
   "metadata": {},
   "outputs": [],
   "source": [
    "while prov.hasNext(True):\n",
    "    Xt, yt = prov.next(True)\n",
    "    for i in range(len(yt)):\n",
    "        if yt[i] == 1:\n",
    "            trainVal.append(i+1)\n",
    "            \n",
    "    X.append(Xt)\n",
    "    y.append(yt)"
   ]
  },
  {
   "cell_type": "code",
   "execution_count": 4,
   "metadata": {},
   "outputs": [
    {
     "data": {
      "text/plain": [
       "((6880, 1440), (6880, 5))"
      ]
     },
     "execution_count": 4,
     "metadata": {},
     "output_type": "execute_result"
    }
   ],
   "source": [
    "X = np.nan_to_num(np.matrix(X))\n",
    "y = np.matrix(y)\n",
    "\n",
    "X.shape, y.shape"
   ]
  },
  {
   "cell_type": "code",
   "execution_count": 5,
   "metadata": {},
   "outputs": [],
   "source": [
    "X2 = list()\n",
    "y2 = list()\n",
    "actualVal = list()"
   ]
  },
  {
   "cell_type": "code",
   "execution_count": 6,
   "metadata": {},
   "outputs": [],
   "source": [
    "while prov.hasNext(False):\n",
    "    X2t, y2t = prov.next(False)\n",
    "    actualVal.append(y2t)\n",
    "    \n",
    "    k = np.zeros(5)\n",
    "    k[y2t - 1] = 1\n",
    "    \n",
    "    X2.append(X2t)\n",
    "    y2.append(k)"
   ]
  },
  {
   "cell_type": "code",
   "execution_count": 7,
   "metadata": {},
   "outputs": [
    {
     "data": {
      "text/plain": [
       "((27, 1440), (27, 5))"
      ]
     },
     "execution_count": 7,
     "metadata": {},
     "output_type": "execute_result"
    }
   ],
   "source": [
    "X2 = np.nan_to_num(np.matrix(X2))\n",
    "y2 = np.matrix(y2)\n",
    "\n",
    "X2.shape, y2.shape"
   ]
  },
  {
   "cell_type": "code",
   "execution_count": 8,
   "metadata": {},
   "outputs": [
    {
     "name": "stderr",
     "output_type": "stream",
     "text": [
      "Using TensorFlow backend.\n"
     ]
    }
   ],
   "source": [
    "import keras\n",
    "from keras.models import Sequential\n",
    "from keras.layers import Dense\n",
    "from keras import optimizers"
   ]
  },
  {
   "cell_type": "code",
   "execution_count": 36,
   "metadata": {},
   "outputs": [],
   "source": [
    "model = Sequential()"
   ]
  },
  {
   "cell_type": "code",
   "execution_count": 37,
   "metadata": {},
   "outputs": [],
   "source": [
    "model.add(Dense(units=64, activation='relu', input_dim = prov.returnSizeOfEverySpectogram()))\n",
    "model.add(Dense(64, activation='relu'))\n",
    "model.add(Dense(32, activation='relu'))\n",
    "model.add(Dense(16, activation='relu'))\n",
    "model.add(Dense(8, activation='relu'))\n",
    "#model.add(Dense(128, activation='relu'))\n",
    "model.add(Dense(units=5, activation='softmax'))"
   ]
  },
  {
   "cell_type": "code",
   "execution_count": 38,
   "metadata": {},
   "outputs": [],
   "source": [
    "model.compile(loss='categorical_crossentropy',\n",
    "              optimizer='sgd',\n",
    "              metrics=['accuracy'])"
   ]
  },
  {
   "cell_type": "code",
   "execution_count": 39,
   "metadata": {},
   "outputs": [
    {
     "name": "stdout",
     "output_type": "stream",
     "text": [
      "Train on 5504 samples, validate on 1376 samples\n",
      "Epoch 1/100\n",
      "5504/5504 [==============================] - 0s 65us/step - loss: 1.6159 - accuracy: 0.1893 - val_loss: 1.6151 - val_accuracy: 0.2667\n",
      "Epoch 2/100\n",
      "5504/5504 [==============================] - 0s 48us/step - loss: 1.5984 - accuracy: 0.2386 - val_loss: 1.6089 - val_accuracy: 0.2573\n",
      "Epoch 3/100\n",
      "5504/5504 [==============================] - 0s 43us/step - loss: 1.5802 - accuracy: 0.2912 - val_loss: 1.5991 - val_accuracy: 0.2900\n",
      "Epoch 4/100\n",
      "5504/5504 [==============================] - 0s 54us/step - loss: 1.5573 - accuracy: 0.3374 - val_loss: 1.5857 - val_accuracy: 0.3132\n",
      "Epoch 5/100\n",
      "5504/5504 [==============================] - 0s 45us/step - loss: 1.5286 - accuracy: 0.3679 - val_loss: 1.5677 - val_accuracy: 0.3307\n",
      "Epoch 6/100\n",
      "5504/5504 [==============================] - 0s 43us/step - loss: 1.4932 - accuracy: 0.3986 - val_loss: 1.5454 - val_accuracy: 0.3416\n",
      "Epoch 7/100\n",
      "5504/5504 [==============================] - 0s 40us/step - loss: 1.4506 - accuracy: 0.4195 - val_loss: 1.5200 - val_accuracy: 0.3503\n",
      "Epoch 8/100\n",
      "5504/5504 [==============================] - 0s 47us/step - loss: 1.4004 - accuracy: 0.4502 - val_loss: 1.4923 - val_accuracy: 0.3539\n",
      "Epoch 9/100\n",
      "5504/5504 [==============================] - 0s 47us/step - loss: 1.3446 - accuracy: 0.4791 - val_loss: 1.4655 - val_accuracy: 0.3648\n",
      "Epoch 10/100\n",
      "5504/5504 [==============================] - 0s 39us/step - loss: 1.2868 - accuracy: 0.5074 - val_loss: 1.4443 - val_accuracy: 0.3619\n",
      "Epoch 11/100\n",
      "5504/5504 [==============================] - 0s 45us/step - loss: 1.2295 - accuracy: 0.5289 - val_loss: 1.4258 - val_accuracy: 0.3554\n",
      "Epoch 12/100\n",
      "5504/5504 [==============================] - 0s 46us/step - loss: 1.1729 - accuracy: 0.5534 - val_loss: 1.4065 - val_accuracy: 0.3641\n",
      "Epoch 13/100\n",
      "5504/5504 [==============================] - 0s 43us/step - loss: 1.1158 - accuracy: 0.5859 - val_loss: 1.3869 - val_accuracy: 0.3779\n",
      "Epoch 14/100\n",
      "5504/5504 [==============================] - 0s 39us/step - loss: 1.0552 - accuracy: 0.6250 - val_loss: 1.3678 - val_accuracy: 0.3939\n",
      "Epoch 15/100\n",
      "5504/5504 [==============================] - 0s 42us/step - loss: 0.9902 - accuracy: 0.6582 - val_loss: 1.3387 - val_accuracy: 0.4041\n",
      "Epoch 16/100\n",
      "5504/5504 [==============================] - 0s 47us/step - loss: 0.9189 - accuracy: 0.6917 - val_loss: 1.3147 - val_accuracy: 0.4099\n",
      "Epoch 17/100\n",
      "5504/5504 [==============================] - 0s 70us/step - loss: 0.8450 - accuracy: 0.7131 - val_loss: 1.2873 - val_accuracy: 0.4215\n",
      "Epoch 18/100\n",
      "5504/5504 [==============================] - 0s 40us/step - loss: 0.7740 - accuracy: 0.7329 - val_loss: 1.2615 - val_accuracy: 0.4382\n",
      "Epoch 19/100\n",
      "5504/5504 [==============================] - 0s 43us/step - loss: 0.7098 - accuracy: 0.7549 - val_loss: 1.2200 - val_accuracy: 0.4535\n",
      "Epoch 20/100\n",
      "5504/5504 [==============================] - 0s 41us/step - loss: 0.6525 - accuracy: 0.7742 - val_loss: 1.1844 - val_accuracy: 0.4847\n",
      "Epoch 21/100\n",
      "5504/5504 [==============================] - 0s 58us/step - loss: 0.6017 - accuracy: 0.7963 - val_loss: 1.1803 - val_accuracy: 0.4985\n",
      "Epoch 22/100\n",
      "5504/5504 [==============================] - 0s 41us/step - loss: 0.5534 - accuracy: 0.8169 - val_loss: 1.1663 - val_accuracy: 0.5131\n",
      "Epoch 23/100\n",
      "5504/5504 [==============================] - 0s 43us/step - loss: 0.5090 - accuracy: 0.8385 - val_loss: 1.1534 - val_accuracy: 0.5269\n",
      "Epoch 24/100\n",
      "5504/5504 [==============================] - 0s 42us/step - loss: 0.4643 - accuracy: 0.8588 - val_loss: 1.1566 - val_accuracy: 0.5363\n",
      "Epoch 25/100\n",
      "5504/5504 [==============================] - 0s 42us/step - loss: 0.4221 - accuracy: 0.8726 - val_loss: 1.1720 - val_accuracy: 0.5422\n",
      "Epoch 26/100\n",
      "5504/5504 [==============================] - 0s 40us/step - loss: 0.3830 - accuracy: 0.8854 - val_loss: 1.1856 - val_accuracy: 0.5429\n",
      "Epoch 27/100\n",
      "5504/5504 [==============================] - 0s 40us/step - loss: 0.3472 - accuracy: 0.9004 - val_loss: 1.2123 - val_accuracy: 0.5443\n",
      "Epoch 28/100\n",
      "5504/5504 [==============================] - 0s 41us/step - loss: 0.3145 - accuracy: 0.9135 - val_loss: 1.1900 - val_accuracy: 0.5501\n",
      "Epoch 29/100\n",
      "5504/5504 [==============================] - 0s 43us/step - loss: 0.2852 - accuracy: 0.9230 - val_loss: 1.2408 - val_accuracy: 0.5509\n",
      "Epoch 30/100\n",
      "5504/5504 [==============================] - 0s 42us/step - loss: 0.2588 - accuracy: 0.9322 - val_loss: 1.2491 - val_accuracy: 0.5560\n",
      "Epoch 31/100\n",
      "5504/5504 [==============================] - 0s 39us/step - loss: 0.2353 - accuracy: 0.9382 - val_loss: 1.2964 - val_accuracy: 0.5531\n",
      "Epoch 32/100\n",
      "5504/5504 [==============================] - 0s 42us/step - loss: 0.2137 - accuracy: 0.9448 - val_loss: 1.3026 - val_accuracy: 0.5596\n",
      "Epoch 33/100\n",
      "5504/5504 [==============================] - 0s 42us/step - loss: 0.1953 - accuracy: 0.9502 - val_loss: 1.3428 - val_accuracy: 0.5574\n",
      "Epoch 34/100\n",
      "5504/5504 [==============================] - 0s 68us/step - loss: 0.1787 - accuracy: 0.9535 - val_loss: 1.3842 - val_accuracy: 0.5552\n",
      "Epoch 35/100\n",
      "5504/5504 [==============================] - 0s 40us/step - loss: 0.1635 - accuracy: 0.9582 - val_loss: 1.4403 - val_accuracy: 0.5480\n",
      "Epoch 36/100\n",
      "5504/5504 [==============================] - 0s 42us/step - loss: 0.1501 - accuracy: 0.9633 - val_loss: 1.4359 - val_accuracy: 0.5618\n",
      "Epoch 37/100\n",
      "5504/5504 [==============================] - 0s 36us/step - loss: 0.1378 - accuracy: 0.9671 - val_loss: 1.4990 - val_accuracy: 0.5523\n",
      "Epoch 38/100\n",
      "5504/5504 [==============================] - 0s 42us/step - loss: 0.1275 - accuracy: 0.9700 - val_loss: 1.5215 - val_accuracy: 0.5603\n",
      "Epoch 39/100\n",
      "5504/5504 [==============================] - 0s 71us/step - loss: 0.1174 - accuracy: 0.9718 - val_loss: 1.5377 - val_accuracy: 0.5661\n",
      "Epoch 40/100\n",
      "5504/5504 [==============================] - 0s 41us/step - loss: 0.1086 - accuracy: 0.9749 - val_loss: 1.5491 - val_accuracy: 0.5690\n",
      "Epoch 41/100\n",
      "5504/5504 [==============================] - 0s 65us/step - loss: 0.1003 - accuracy: 0.9762 - val_loss: 1.6445 - val_accuracy: 0.5560\n",
      "Epoch 42/100\n",
      "5504/5504 [==============================] - 0s 40us/step - loss: 0.0935 - accuracy: 0.9786 - val_loss: 1.6227 - val_accuracy: 0.5719\n",
      "Epoch 43/100\n",
      "5504/5504 [==============================] - 0s 54us/step - loss: 0.0867 - accuracy: 0.9780 - val_loss: 1.6549 - val_accuracy: 0.5683\n",
      "Epoch 44/100\n",
      "5504/5504 [==============================] - 0s 57us/step - loss: 0.0807 - accuracy: 0.9798 - val_loss: 1.6646 - val_accuracy: 0.5770\n",
      "Epoch 45/100\n",
      "5504/5504 [==============================] - 0s 51us/step - loss: 0.0755 - accuracy: 0.9818 - val_loss: 1.6817 - val_accuracy: 0.5770\n",
      "Epoch 46/100\n",
      "5504/5504 [==============================] - 0s 40us/step - loss: 0.0705 - accuracy: 0.9822 - val_loss: 1.7247 - val_accuracy: 0.5749\n",
      "Epoch 47/100\n",
      "5504/5504 [==============================] - 0s 49us/step - loss: 0.0660 - accuracy: 0.9829 - val_loss: 1.7262 - val_accuracy: 0.5814\n",
      "Epoch 48/100\n",
      "5504/5504 [==============================] - 0s 50us/step - loss: 0.0620 - accuracy: 0.9827 - val_loss: 1.7878 - val_accuracy: 0.5749\n",
      "Epoch 49/100\n",
      "5504/5504 [==============================] - 0s 44us/step - loss: 0.0585 - accuracy: 0.9835 - val_loss: 1.7833 - val_accuracy: 0.5792\n",
      "Epoch 50/100\n",
      "5504/5504 [==============================] - 0s 48us/step - loss: 0.0550 - accuracy: 0.9849 - val_loss: 1.8225 - val_accuracy: 0.5763\n",
      "Epoch 51/100\n",
      "5504/5504 [==============================] - 0s 53us/step - loss: 0.0521 - accuracy: 0.9855 - val_loss: 1.8455 - val_accuracy: 0.5756\n",
      "Epoch 52/100\n",
      "5504/5504 [==============================] - 0s 53us/step - loss: 0.0494 - accuracy: 0.9862 - val_loss: 1.8448 - val_accuracy: 0.5807\n",
      "Epoch 53/100\n",
      "5504/5504 [==============================] - 0s 67us/step - loss: 0.0469 - accuracy: 0.9867 - val_loss: 1.9140 - val_accuracy: 0.5756\n",
      "Epoch 54/100\n",
      "5504/5504 [==============================] - 0s 67us/step - loss: 0.0447 - accuracy: 0.9867 - val_loss: 1.8991 - val_accuracy: 0.5785\n",
      "Epoch 55/100\n",
      "5504/5504 [==============================] - 0s 52us/step - loss: 0.0427 - accuracy: 0.9871 - val_loss: 1.9015 - val_accuracy: 0.5843\n",
      "Epoch 56/100\n"
     ]
    },
    {
     "name": "stdout",
     "output_type": "stream",
     "text": [
      "5504/5504 [==============================] - 0s 43us/step - loss: 0.0407 - accuracy: 0.9878 - val_loss: 1.9099 - val_accuracy: 0.5865\n",
      "Epoch 57/100\n",
      "5504/5504 [==============================] - 0s 55us/step - loss: 0.0392 - accuracy: 0.9886 - val_loss: 1.9628 - val_accuracy: 0.5836\n",
      "Epoch 58/100\n",
      "5504/5504 [==============================] - 0s 52us/step - loss: 0.0376 - accuracy: 0.9896 - val_loss: 1.9644 - val_accuracy: 0.5843\n",
      "Epoch 59/100\n",
      "5504/5504 [==============================] - 0s 43us/step - loss: 0.0362 - accuracy: 0.9902 - val_loss: 1.9996 - val_accuracy: 0.5836\n",
      "Epoch 60/100\n",
      "5504/5504 [==============================] - 0s 38us/step - loss: 0.0349 - accuracy: 0.9902 - val_loss: 2.0039 - val_accuracy: 0.5850\n",
      "Epoch 61/100\n",
      "5504/5504 [==============================] - 0s 47us/step - loss: 0.0337 - accuracy: 0.9909 - val_loss: 2.0244 - val_accuracy: 0.5850\n",
      "Epoch 62/100\n",
      "5504/5504 [==============================] - 0s 77us/step - loss: 0.0327 - accuracy: 0.9909 - val_loss: 2.0603 - val_accuracy: 0.5828\n",
      "Epoch 63/100\n",
      "5504/5504 [==============================] - 0s 40us/step - loss: 0.0317 - accuracy: 0.9916 - val_loss: 2.0709 - val_accuracy: 0.5828\n",
      "Epoch 64/100\n",
      "5504/5504 [==============================] - 0s 41us/step - loss: 0.0309 - accuracy: 0.9916 - val_loss: 2.0864 - val_accuracy: 0.5828\n",
      "Epoch 65/100\n",
      "5504/5504 [==============================] - 0s 64us/step - loss: 0.0300 - accuracy: 0.9918 - val_loss: 2.1103 - val_accuracy: 0.5828\n",
      "Epoch 66/100\n",
      "5504/5504 [==============================] - 0s 41us/step - loss: 0.0293 - accuracy: 0.9920 - val_loss: 2.1225 - val_accuracy: 0.5821\n",
      "Epoch 67/100\n",
      "5504/5504 [==============================] - 0s 41us/step - loss: 0.0286 - accuracy: 0.9922 - val_loss: 2.1328 - val_accuracy: 0.5828\n",
      "Epoch 68/100\n",
      "5504/5504 [==============================] - 0s 49us/step - loss: 0.0279 - accuracy: 0.9922 - val_loss: 2.1700 - val_accuracy: 0.5799\n",
      "Epoch 69/100\n",
      "5504/5504 [==============================] - 0s 42us/step - loss: 0.0273 - accuracy: 0.9922 - val_loss: 2.1758 - val_accuracy: 0.5770\n",
      "Epoch 70/100\n",
      "5504/5504 [==============================] - 0s 63us/step - loss: 0.0267 - accuracy: 0.9922 - val_loss: 2.1994 - val_accuracy: 0.5778\n",
      "Epoch 71/100\n",
      "5504/5504 [==============================] - 0s 37us/step - loss: 0.0262 - accuracy: 0.9922 - val_loss: 2.1838 - val_accuracy: 0.5858\n",
      "Epoch 72/100\n",
      "5504/5504 [==============================] - 0s 57us/step - loss: 0.0257 - accuracy: 0.9924 - val_loss: 2.1991 - val_accuracy: 0.5865\n",
      "Epoch 73/100\n",
      "5504/5504 [==============================] - 0s 46us/step - loss: 0.0252 - accuracy: 0.9924 - val_loss: 2.2235 - val_accuracy: 0.5836\n",
      "Epoch 74/100\n",
      "5504/5504 [==============================] - 0s 37us/step - loss: 0.0248 - accuracy: 0.9924 - val_loss: 2.2236 - val_accuracy: 0.5843\n",
      "Epoch 75/100\n",
      "5504/5504 [==============================] - 0s 52us/step - loss: 0.0244 - accuracy: 0.9924 - val_loss: 2.2372 - val_accuracy: 0.5843\n",
      "Epoch 76/100\n",
      "5504/5504 [==============================] - 0s 54us/step - loss: 0.0240 - accuracy: 0.9926 - val_loss: 2.2586 - val_accuracy: 0.5836\n",
      "Epoch 77/100\n",
      "5504/5504 [==============================] - 0s 52us/step - loss: 0.0236 - accuracy: 0.9926 - val_loss: 2.2830 - val_accuracy: 0.5799\n",
      "Epoch 78/100\n",
      "5504/5504 [==============================] - 0s 58us/step - loss: 0.0233 - accuracy: 0.9926 - val_loss: 2.2875 - val_accuracy: 0.5799\n",
      "Epoch 79/100\n",
      "5504/5504 [==============================] - 0s 59us/step - loss: 0.0230 - accuracy: 0.9927 - val_loss: 2.2908 - val_accuracy: 0.5836\n",
      "Epoch 80/100\n",
      "5504/5504 [==============================] - 0s 47us/step - loss: 0.0227 - accuracy: 0.9927 - val_loss: 2.3217 - val_accuracy: 0.5778\n",
      "Epoch 81/100\n",
      "5504/5504 [==============================] - 0s 51us/step - loss: 0.0224 - accuracy: 0.9927 - val_loss: 2.3286 - val_accuracy: 0.5799\n",
      "Epoch 82/100\n",
      "5504/5504 [==============================] - 0s 42us/step - loss: 0.0221 - accuracy: 0.9927 - val_loss: 2.3338 - val_accuracy: 0.5799\n",
      "Epoch 83/100\n",
      "5504/5504 [==============================] - 0s 49us/step - loss: 0.0218 - accuracy: 0.9927 - val_loss: 2.3354 - val_accuracy: 0.5828\n",
      "Epoch 84/100\n",
      "5504/5504 [==============================] - 0s 50us/step - loss: 0.0216 - accuracy: 0.9927 - val_loss: 2.3537 - val_accuracy: 0.5821\n",
      "Epoch 85/100\n",
      "5504/5504 [==============================] - 0s 46us/step - loss: 0.0213 - accuracy: 0.9927 - val_loss: 2.3981 - val_accuracy: 0.5756\n",
      "Epoch 86/100\n",
      "5504/5504 [==============================] - 0s 46us/step - loss: 0.0211 - accuracy: 0.9927 - val_loss: 2.3611 - val_accuracy: 0.5843\n",
      "Epoch 87/100\n",
      "5504/5504 [==============================] - 0s 50us/step - loss: 0.0209 - accuracy: 0.9927 - val_loss: 2.4113 - val_accuracy: 0.5749\n",
      "Epoch 88/100\n",
      "5504/5504 [==============================] - 0s 52us/step - loss: 0.0207 - accuracy: 0.9927 - val_loss: 2.4115 - val_accuracy: 0.5763\n",
      "Epoch 89/100\n",
      "5504/5504 [==============================] - 0s 39us/step - loss: 0.0205 - accuracy: 0.9927 - val_loss: 2.3994 - val_accuracy: 0.5821\n",
      "Epoch 90/100\n",
      "5504/5504 [==============================] - 0s 53us/step - loss: 0.0203 - accuracy: 0.9927 - val_loss: 2.4079 - val_accuracy: 0.5821\n",
      "Epoch 91/100\n",
      "5504/5504 [==============================] - 0s 54us/step - loss: 0.0201 - accuracy: 0.9927 - val_loss: 2.4197 - val_accuracy: 0.5821\n",
      "Epoch 92/100\n",
      "5504/5504 [==============================] - 0s 45us/step - loss: 0.0200 - accuracy: 0.9927 - val_loss: 2.4412 - val_accuracy: 0.5792\n",
      "Epoch 93/100\n",
      "5504/5504 [==============================] - 0s 41us/step - loss: 0.0198 - accuracy: 0.9927 - val_loss: 2.4528 - val_accuracy: 0.5792\n",
      "Epoch 94/100\n",
      "5504/5504 [==============================] - 0s 48us/step - loss: 0.0197 - accuracy: 0.9927 - val_loss: 2.4470 - val_accuracy: 0.5814\n",
      "Epoch 95/100\n",
      "5504/5504 [==============================] - 0s 50us/step - loss: 0.0195 - accuracy: 0.9927 - val_loss: 2.4666 - val_accuracy: 0.5799\n",
      "Epoch 96/100\n",
      "5504/5504 [==============================] - 0s 43us/step - loss: 0.0194 - accuracy: 0.9927 - val_loss: 2.4748 - val_accuracy: 0.5799\n",
      "Epoch 97/100\n",
      "5504/5504 [==============================] - 0s 49us/step - loss: 0.0193 - accuracy: 0.9927 - val_loss: 2.4786 - val_accuracy: 0.5792\n",
      "Epoch 98/100\n",
      "5504/5504 [==============================] - 0s 47us/step - loss: 0.0191 - accuracy: 0.9927 - val_loss: 2.4796 - val_accuracy: 0.5807\n",
      "Epoch 99/100\n",
      "5504/5504 [==============================] - 0s 49us/step - loss: 0.0190 - accuracy: 0.9927 - val_loss: 2.5022 - val_accuracy: 0.5807\n",
      "Epoch 100/100\n",
      "5504/5504 [==============================] - 0s 47us/step - loss: 0.0189 - accuracy: 0.9927 - val_loss: 2.5141 - val_accuracy: 0.5799\n"
     ]
    }
   ],
   "source": [
    "history = model.fit(X, y, epochs=100, batch_size=128, verbose=1, validation_split=0.2)"
   ]
  },
  {
   "cell_type": "code",
   "execution_count": 40,
   "metadata": {},
   "outputs": [
    {
     "data": {
      "image/png": "[encoded data removed]",
      "text/plain": [
       "<Figure size 432x288 with 1 Axes>"
      ]
     },
     "metadata": {
      "needs_background": "light"
     },
     "output_type": "display_data"
    },
    {
     "data": {
      "image/png": "[encoded data removed]",
      "text/plain": [
       "<Figure size 432x288 with 1 Axes>"
      ]
     },
     "metadata": {
      "needs_background": "light"
     },
     "output_type": "display_data"
    }
   ],
   "source": [
    "import matplotlib.pyplot as plt\n",
    "\n",
    "# Plot training & validation accuracy values\n",
    "plt.plot(history.history['accuracy'])\n",
    "plt.plot(history.history['val_accuracy'])\n",
    "plt.title('Model accuracy')\n",
    "plt.ylabel('Accuracy')\n",
    "plt.xlabel('Epoch')\n",
    "plt.legend(['Train', 'Test'], loc='upper left')\n",
    "plt.show()\n",
    "\n",
    "# Plot training & validation loss values\n",
    "plt.plot(history.history['loss'])\n",
    "plt.plot(history.history['val_loss'])\n",
    "plt.title('Model loss')\n",
    "plt.ylabel('Loss')\n",
    "plt.xlabel('Epoch')\n",
    "plt.legend(['Train', 'Test'], loc='upper left')\n",
    "plt.show()"
   ]
  },
  {
   "cell_type": "code",
   "execution_count": 41,
   "metadata": {},
   "outputs": [
    {
     "name": "stdout",
     "output_type": "stream",
     "text": [
      "\r",
      "27/27 [==============================] - 0s 50us/step\n"
     ]
    }
   ],
   "source": [
    "loss_and_metrics = model.evaluate(X2, y2, batch_size=128)"
   ]
  },
  {
   "cell_type": "code",
   "execution_count": 42,
   "metadata": {},
   "outputs": [],
   "source": [
    "pred = model.predict(X2, batch_size=128)"
   ]
  },
  {
   "cell_type": "code",
   "execution_count": 43,
   "metadata": {},
   "outputs": [
    {
     "data": {
      "text/plain": [
       "array([2, 4, 3, 2, 2, 3, 4, 3, 5, 3, 2, 5, 2, 2, 1, 4, 5, 5, 1, 1, 3, 1,\n",
       "       4, 1, 5, 4, 1])"
      ]
     },
     "execution_count": 43,
     "metadata": {},
     "output_type": "execute_result"
    }
   ],
   "source": [
    "pr = np.argmax(pred, axis=1)+1\n",
    "pr"
   ]
  },
  {
   "cell_type": "code",
   "execution_count": 44,
   "metadata": {},
   "outputs": [
    {
     "name": "stdout",
     "output_type": "stream",
     "text": [
      "Accuracy: 48.148148148148145%\n"
     ]
    }
   ],
   "source": [
    "correct = [1 if a == b else 0 for (a, b) in zip(pr, actualVal)]\n",
    "accuracy = (sum(map(int, correct)) / float(len(correct)))\n",
    "print (\"Accuracy: \" + str(accuracy * 100) + \"%\")"
   ]
  },
  {
   "cell_type": "code",
   "execution_count": 45,
   "metadata": {},
   "outputs": [],
   "source": [
    "for i in pred:\n",
    "    count = sum(i)\n",
    "    for j in range(len(i)):\n",
    "        i[j] = i[j] / count"
   ]
  },
  {
   "cell_type": "code",
   "execution_count": 46,
   "metadata": {},
   "outputs": [],
   "source": [
    "import copy\n",
    "countGrade = copy.deepcopy(actualVal)\n"
   ]
  },
  {
   "cell_type": "code",
   "execution_count": 47,
   "metadata": {},
   "outputs": [],
   "source": [
    "for i in range(len(countGrade)):\n",
    "    ans = actualVal[i]\n",
    "    countGrade[i] = pred[i][ans-1]"
   ]
  },
  {
   "cell_type": "code",
   "execution_count": 48,
   "metadata": {},
   "outputs": [
    {
     "data": {
      "text/plain": [
       "0.498125737182536"
      ]
     },
     "execution_count": 48,
     "metadata": {},
     "output_type": "execute_result"
    }
   ],
   "source": [
    "result = sum(countGrade) / len(countGrade)\n",
    "result"
   ]
  },
  {
   "cell_type": "code",
   "execution_count": 22,
   "metadata": {},
   "outputs": [
    {
     "name": "stdout",
     "output_type": "stream",
     "text": [
      "Model: \"sequential_1\"\n",
      "_________________________________________________________________\n",
      "Layer (type)                 Output Shape              Param #   \n",
      "=================================================================\n",
      "dense_1 (Dense)              (None, 64)                92224     \n",
      "_________________________________________________________________\n",
      "dense_2 (Dense)              (None, 64)                4160      \n",
      "_________________________________________________________________\n",
      "dense_3 (Dense)              (None, 32)                2080      \n",
      "_________________________________________________________________\n",
      "dense_4 (Dense)              (None, 16)                528       \n",
      "_________________________________________________________________\n",
      "dense_5 (Dense)              (None, 8)                 136       \n",
      "_________________________________________________________________\n",
      "dense_6 (Dense)              (None, 5)                 45        \n",
      "=================================================================\n",
      "Total params: 99,173\n",
      "Trainable params: 99,173\n",
      "Non-trainable params: 0\n",
      "_________________________________________________________________\n"
     ]
    }
   ],
   "source": [
    "model.summary()"
   ]
  },
  {
   "cell_type": "code",
   "execution_count": null,
   "metadata": {},
   "outputs": [],
   "source": []
  }
 ],
 "metadata": {
  "kernelspec": {
   "display_name": "Python 3",
   "language": "python",
   "name": "python3"
  },
  "language_info": {
   "codemirror_mode": {
    "name": "ipython",
    "version": 3
   },
   "file_extension": ".py",
   "mimetype": "text/x-python",
   "name": "python",
   "nbconvert_exporter": "python",
   "pygments_lexer": "ipython3",
   "version": "3.7.6"
  }
 },
 "nbformat": 4,
 "nbformat_minor": 4
}
