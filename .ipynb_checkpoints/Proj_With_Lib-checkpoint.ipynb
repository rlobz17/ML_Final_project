{
 "cells": [
  {
   "cell_type": "code",
   "execution_count": 73,
   "metadata": {},
   "outputs": [
    {
     "name": "stdout",
     "output_type": "stream",
     "text": [
      "[new value of  11\n",
      "-new value of  31\n",
      "------------------------new value of  43\n",
      "--------------------new value of  45\n",
      "--------------------------------new value of  54\n",
      "--------------------------------------------------------------------------------------------new value of  62\n",
      "----------new value of  65\n",
      "------------------------------------------------------------------------------------------------------------------------------------------------------------------------------------------------------------------------------------------------------------------------------------------------------------------------------------------new value of  70\n",
      "-----------------------------new value of  72\n",
      "------------------------------------------------------------------------------------------------------------------------------------------------------]\n",
      "[################################################################################################################################################################################################################################################################################################################################################################################################################################################################################################################################################################################################################################################################################################################]\n",
      "[-----]\n",
      "[#####]\n"
     ]
    }
   ],
   "source": [
    "import DataProvider\n",
    "prov = DataProvider.DataProvider()"
   ]
  },
  {
   "cell_type": "code",
   "execution_count": 74,
   "metadata": {},
   "outputs": [],
   "source": [
    "import numpy as np\n",
    "X = list()\n",
    "y = list()\n",
    "trainVal = list()"
   ]
  },
  {
   "cell_type": "code",
   "execution_count": 75,
   "metadata": {},
   "outputs": [],
   "source": [
    "while prov.hasNext(True):\n",
    "    Xt, yt = prov.next(True)\n",
    "    for i in range(len(yt)):\n",
    "        if yt[i] == 1:\n",
    "            trainVal.append(i+1)\n",
    "            \n",
    "    X.append(Xt)\n",
    "    y.append(yt)"
   ]
  },
  {
   "cell_type": "code",
   "execution_count": 76,
   "metadata": {},
   "outputs": [
    {
     "data": {
      "text/plain": [
       "((688, 1440), (688, 5))"
      ]
     },
     "execution_count": 76,
     "metadata": {},
     "output_type": "execute_result"
    }
   ],
   "source": [
    "X = np.nan_to_num(np.matrix(X))\n",
    "y = np.matrix(y)\n",
    "\n",
    "X.shape, y.shape"
   ]
  },
  {
   "cell_type": "code",
   "execution_count": 77,
   "metadata": {},
   "outputs": [],
   "source": [
    "X2 = list()\n",
    "y2 = list()\n",
    "actualVal = list()"
   ]
  },
  {
   "cell_type": "code",
   "execution_count": 78,
   "metadata": {},
   "outputs": [],
   "source": [
    "while prov.hasNext(False):\n",
    "    X2t, y2t = prov.next(False)\n",
    "    actualVal.append(y2t)\n",
    "    \n",
    "    k = np.zeros(5)\n",
    "    k[y2t - 1] = 1\n",
    "    \n",
    "    X2.append(X2t)\n",
    "    y2.append(k)"
   ]
  },
  {
   "cell_type": "code",
   "execution_count": 79,
   "metadata": {},
   "outputs": [
    {
     "data": {
      "text/plain": [
       "((5, 1440), (5, 5))"
      ]
     },
     "execution_count": 79,
     "metadata": {},
     "output_type": "execute_result"
    }
   ],
   "source": [
    "X2 = np.nan_to_num(np.matrix(X2))\n",
    "y2 = np.matrix(y2)\n",
    "\n",
    "X2.shape, y2.shape"
   ]
  },
  {
   "cell_type": "code",
   "execution_count": 108,
   "metadata": {},
   "outputs": [],
   "source": [
    "size = prov.returnSizeOfEverySpectogram()"
   ]
  },
  {
   "cell_type": "code",
   "execution_count": 109,
   "metadata": {},
   "outputs": [],
   "source": [
    "import keras\n",
    "from keras.models import Sequential\n",
    "from keras.layers import Dense"
   ]
  },
  {
   "cell_type": "code",
   "execution_count": 110,
   "metadata": {},
   "outputs": [],
   "source": [
    "model = Sequential()"
   ]
  },
  {
   "cell_type": "code",
   "execution_count": 111,
   "metadata": {},
   "outputs": [],
   "source": [
    "model.add(Dense(units=64, activation='relu', input_dim = size))\n",
    "model.add(Dense(128))\n",
    "model.add(Dense(32))\n",
    "model.add(Dense(units=5, activation='softmax'))"
   ]
  },
  {
   "cell_type": "code",
   "execution_count": 112,
   "metadata": {},
   "outputs": [],
   "source": [
    "model.compile(loss='categorical_crossentropy',\n",
    "              optimizer='sgd',\n",
    "              metrics=['accuracy'])"
   ]
  },
  {
   "cell_type": "code",
   "execution_count": 113,
   "metadata": {},
   "outputs": [
    {
     "name": "stdout",
     "output_type": "stream",
     "text": [
      "Epoch 1/100\n",
      "688/688 [==============================] - 1s 882us/step - loss: 8996013360615789690880.0000 - accuracy: 0.1904\n",
      "Epoch 2/100\n",
      "688/688 [==============================] - 0s 73us/step - loss: nan - accuracy: 0.2020\n",
      "Epoch 3/100\n",
      "688/688 [==============================] - 0s 68us/step - loss: nan - accuracy: 0.2020\n",
      "Epoch 4/100\n",
      "688/688 [==============================] - 0s 67us/step - loss: nan - accuracy: 0.2020\n",
      "Epoch 5/100\n",
      "688/688 [==============================] - 0s 70us/step - loss: nan - accuracy: 0.2020\n",
      "Epoch 6/100\n",
      "688/688 [==============================] - 0s 77us/step - loss: nan - accuracy: 0.2020\n",
      "Epoch 7/100\n",
      "688/688 [==============================] - 0s 73us/step - loss: nan - accuracy: 0.2020\n",
      "Epoch 8/100\n",
      "688/688 [==============================] - 0s 78us/step - loss: nan - accuracy: 0.2020\n",
      "Epoch 9/100\n",
      "688/688 [==============================] - 0s 69us/step - loss: nan - accuracy: 0.2020\n",
      "Epoch 10/100\n",
      "688/688 [==============================] - 0s 74us/step - loss: nan - accuracy: 0.2020\n",
      "Epoch 11/100\n",
      "688/688 [==============================] - 0s 84us/step - loss: nan - accuracy: 0.2020\n",
      "Epoch 12/100\n",
      "688/688 [==============================] - 0s 166us/step - loss: nan - accuracy: 0.2020\n",
      "Epoch 13/100\n",
      "688/688 [==============================] - 0s 111us/step - loss: nan - accuracy: 0.2020\n",
      "Epoch 14/100\n",
      "688/688 [==============================] - 0s 132us/step - loss: nan - accuracy: 0.2020\n",
      "Epoch 15/100\n",
      "688/688 [==============================] - 0s 80us/step - loss: nan - accuracy: 0.2020\n",
      "Epoch 16/100\n",
      "688/688 [==============================] - 0s 74us/step - loss: nan - accuracy: 0.2020\n",
      "Epoch 17/100\n",
      "688/688 [==============================] - 0s 75us/step - loss: nan - accuracy: 0.2020\n",
      "Epoch 18/100\n",
      "688/688 [==============================] - 0s 78us/step - loss: nan - accuracy: 0.2020\n",
      "Epoch 19/100\n",
      "688/688 [==============================] - 0s 79us/step - loss: nan - accuracy: 0.2020\n",
      "Epoch 20/100\n",
      "688/688 [==============================] - 0s 72us/step - loss: nan - accuracy: 0.2020\n",
      "Epoch 21/100\n",
      "688/688 [==============================] - 0s 75us/step - loss: nan - accuracy: 0.2020\n",
      "Epoch 22/100\n",
      "688/688 [==============================] - 0s 92us/step - loss: nan - accuracy: 0.2020\n",
      "Epoch 23/100\n",
      "688/688 [==============================] - 0s 161us/step - loss: nan - accuracy: 0.2020\n",
      "Epoch 24/100\n",
      "688/688 [==============================] - 0s 160us/step - loss: nan - accuracy: 0.2020\n",
      "Epoch 25/100\n",
      "688/688 [==============================] - 0s 126us/step - loss: nan - accuracy: 0.2020\n",
      "Epoch 26/100\n",
      "688/688 [==============================] - 0s 84us/step - loss: nan - accuracy: 0.2020\n",
      "Epoch 27/100\n",
      "688/688 [==============================] - 0s 171us/step - loss: nan - accuracy: 0.2020\n",
      "Epoch 28/100\n",
      "688/688 [==============================] - 0s 106us/step - loss: nan - accuracy: 0.2020\n",
      "Epoch 29/100\n",
      "688/688 [==============================] - 0s 140us/step - loss: nan - accuracy: 0.2020\n",
      "Epoch 30/100\n",
      "688/688 [==============================] - 0s 155us/step - loss: nan - accuracy: 0.2020\n",
      "Epoch 31/100\n",
      "688/688 [==============================] - 0s 180us/step - loss: nan - accuracy: 0.2020\n",
      "Epoch 32/100\n",
      "688/688 [==============================] - 0s 161us/step - loss: nan - accuracy: 0.2020\n",
      "Epoch 33/100\n",
      "688/688 [==============================] - 0s 140us/step - loss: nan - accuracy: 0.2020\n",
      "Epoch 34/100\n",
      "688/688 [==============================] - 0s 121us/step - loss: nan - accuracy: 0.2020\n",
      "Epoch 35/100\n",
      "688/688 [==============================] - 0s 100us/step - loss: nan - accuracy: 0.2020\n",
      "Epoch 36/100\n",
      "688/688 [==============================] - 0s 126us/step - loss: nan - accuracy: 0.2020\n",
      "Epoch 37/100\n",
      "688/688 [==============================] - 0s 144us/step - loss: nan - accuracy: 0.2020\n",
      "Epoch 38/100\n",
      "688/688 [==============================] - 0s 80us/step - loss: nan - accuracy: 0.2020\n",
      "Epoch 39/100\n",
      "688/688 [==============================] - 0s 81us/step - loss: nan - accuracy: 0.2020\n",
      "Epoch 40/100\n",
      "688/688 [==============================] - 0s 83us/step - loss: nan - accuracy: 0.2020\n",
      "Epoch 41/100\n",
      "688/688 [==============================] - 0s 153us/step - loss: nan - accuracy: 0.2020\n",
      "Epoch 42/100\n",
      "688/688 [==============================] - 0s 147us/step - loss: nan - accuracy: 0.2020\n",
      "Epoch 43/100\n",
      "688/688 [==============================] - 0s 130us/step - loss: nan - accuracy: 0.2020\n",
      "Epoch 44/100\n",
      "688/688 [==============================] - 0s 152us/step - loss: nan - accuracy: 0.2020\n",
      "Epoch 45/100\n",
      "688/688 [==============================] - 0s 135us/step - loss: nan - accuracy: 0.2020\n",
      "Epoch 46/100\n",
      "688/688 [==============================] - 0s 140us/step - loss: nan - accuracy: 0.2020\n",
      "Epoch 47/100\n",
      "688/688 [==============================] - 0s 137us/step - loss: nan - accuracy: 0.2020\n",
      "Epoch 48/100\n",
      "688/688 [==============================] - 0s 123us/step - loss: nan - accuracy: 0.2020\n",
      "Epoch 49/100\n",
      "688/688 [==============================] - 0s 99us/step - loss: nan - accuracy: 0.2020\n",
      "Epoch 50/100\n",
      "688/688 [==============================] - 0s 86us/step - loss: nan - accuracy: 0.2020\n",
      "Epoch 51/100\n",
      "688/688 [==============================] - 0s 90us/step - loss: nan - accuracy: 0.2020\n",
      "Epoch 52/100\n",
      "688/688 [==============================] - 0s 91us/step - loss: nan - accuracy: 0.2020\n",
      "Epoch 53/100\n",
      "688/688 [==============================] - 0s 88us/step - loss: nan - accuracy: 0.2020\n",
      "Epoch 54/100\n",
      "688/688 [==============================] - 0s 117us/step - loss: nan - accuracy: 0.2020\n",
      "Epoch 55/100\n",
      "688/688 [==============================] - 0s 94us/step - loss: nan - accuracy: 0.2020\n",
      "Epoch 56/100\n",
      "688/688 [==============================] - 0s 127us/step - loss: nan - accuracy: 0.2020\n",
      "Epoch 57/100\n",
      "688/688 [==============================] - 0s 111us/step - loss: nan - accuracy: 0.2020\n",
      "Epoch 58/100\n",
      "688/688 [==============================] - 0s 148us/step - loss: nan - accuracy: 0.2020\n",
      "Epoch 59/100\n",
      "688/688 [==============================] - 0s 204us/step - loss: nan - accuracy: 0.2020\n",
      "Epoch 60/100\n",
      "688/688 [==============================] - 0s 144us/step - loss: nan - accuracy: 0.2020\n",
      "Epoch 61/100\n",
      "688/688 [==============================] - 0s 153us/step - loss: nan - accuracy: 0.2020\n",
      "Epoch 62/100\n",
      "688/688 [==============================] - 0s 113us/step - loss: nan - accuracy: 0.2020\n",
      "Epoch 63/100\n",
      "688/688 [==============================] - 0s 94us/step - loss: nan - accuracy: 0.2020\n",
      "Epoch 64/100\n",
      "688/688 [==============================] - 0s 143us/step - loss: nan - accuracy: 0.2020\n",
      "Epoch 65/100\n",
      "688/688 [==============================] - 0s 155us/step - loss: nan - accuracy: 0.2020\n",
      "Epoch 66/100\n",
      "688/688 [==============================] - 0s 153us/step - loss: nan - accuracy: 0.2020\n",
      "Epoch 67/100\n",
      "688/688 [==============================] - 0s 100us/step - loss: nan - accuracy: 0.2020\n",
      "Epoch 68/100\n",
      "688/688 [==============================] - 0s 82us/step - loss: nan - accuracy: 0.2020\n",
      "Epoch 69/100\n",
      "688/688 [==============================] - 0s 82us/step - loss: nan - accuracy: 0.2020\n",
      "Epoch 70/100\n",
      "688/688 [==============================] - 0s 114us/step - loss: nan - accuracy: 0.2020\n",
      "Epoch 71/100\n",
      "688/688 [==============================] - 0s 192us/step - loss: nan - accuracy: 0.2020\n",
      "Epoch 72/100\n",
      "688/688 [==============================] - 0s 169us/step - loss: nan - accuracy: 0.2020\n",
      "Epoch 73/100\n",
      "688/688 [==============================] - 0s 180us/step - loss: nan - accuracy: 0.2020\n",
      "Epoch 74/100\n",
      "688/688 [==============================] - 0s 107us/step - loss: nan - accuracy: 0.2020\n",
      "Epoch 75/100\n",
      "688/688 [==============================] - 0s 86us/step - loss: nan - accuracy: 0.2020\n",
      "Epoch 76/100\n",
      "688/688 [==============================] - 0s 83us/step - loss: nan - accuracy: 0.2020\n",
      "Epoch 77/100\n",
      "688/688 [==============================] - 0s 99us/step - loss: nan - accuracy: 0.2020\n",
      "Epoch 78/100\n",
      "688/688 [==============================] - 0s 122us/step - loss: nan - accuracy: 0.2020\n",
      "Epoch 79/100\n",
      "688/688 [==============================] - 0s 157us/step - loss: nan - accuracy: 0.2020\n",
      "Epoch 80/100\n",
      "688/688 [==============================] - 0s 173us/step - loss: nan - accuracy: 0.2020\n",
      "Epoch 81/100\n",
      "688/688 [==============================] - 0s 107us/step - loss: nan - accuracy: 0.2020\n",
      "Epoch 82/100\n",
      "688/688 [==============================] - 0s 91us/step - loss: nan - accuracy: 0.2020\n",
      "Epoch 83/100\n",
      "688/688 [==============================] - 0s 92us/step - loss: nan - accuracy: 0.2020\n",
      "Epoch 84/100\n",
      "688/688 [==============================] - 0s 85us/step - loss: nan - accuracy: 0.2020\n",
      "Epoch 85/100\n",
      "688/688 [==============================] - 0s 144us/step - loss: nan - accuracy: 0.2020\n",
      "Epoch 86/100\n",
      "688/688 [==============================] - 0s 161us/step - loss: nan - accuracy: 0.2020\n",
      "Epoch 87/100\n",
      "688/688 [==============================] - 0s 104us/step - loss: nan - accuracy: 0.2020\n",
      "Epoch 88/100\n",
      "688/688 [==============================] - 0s 108us/step - loss: nan - accuracy: 0.2020\n",
      "Epoch 89/100\n",
      "688/688 [==============================] - 0s 104us/step - loss: nan - accuracy: 0.2020\n",
      "Epoch 90/100\n",
      "688/688 [==============================] - 0s 128us/step - loss: nan - accuracy: 0.2020\n",
      "Epoch 91/100\n",
      "688/688 [==============================] - 0s 396us/step - loss: nan - accuracy: 0.2020\n",
      "Epoch 92/100\n",
      "688/688 [==============================] - 0s 120us/step - loss: nan - accuracy: 0.2020\n",
      "Epoch 93/100\n",
      "688/688 [==============================] - 0s 120us/step - loss: nan - accuracy: 0.2020\n",
      "Epoch 94/100\n",
      "688/688 [==============================] - 0s 120us/step - loss: nan - accuracy: 0.2020\n",
      "Epoch 95/100\n",
      "688/688 [==============================] - 0s 265us/step - loss: nan - accuracy: 0.2020\n",
      "Epoch 96/100\n",
      "688/688 [==============================] - 0s 178us/step - loss: nan - accuracy: 0.2020\n",
      "Epoch 97/100\n",
      "688/688 [==============================] - 0s 282us/step - loss: nan - accuracy: 0.2020\n",
      "Epoch 98/100\n",
      "688/688 [==============================] - 0s 212us/step - loss: nan - accuracy: 0.2020\n",
      "Epoch 99/100\n",
      "688/688 [==============================] - 0s 295us/step - loss: nan - accuracy: 0.2020\n",
      "Epoch 100/100\n",
      "688/688 [==============================] - 0s 137us/step - loss: nan - accuracy: 0.2020\n"
     ]
    },
    {
     "data": {
      "text/plain": [
       "<keras.callbacks.callbacks.History at 0x1c5737b410>"
      ]
     },
     "execution_count": 113,
     "metadata": {},
     "output_type": "execute_result"
    }
   ],
   "source": [
    "model.fit(X, y, epochs=100, batch_size=128)\n",
    "#model.train_on_batch(X, y)"
   ]
  },
  {
   "cell_type": "code",
   "execution_count": 114,
   "metadata": {},
   "outputs": [
    {
     "name": "stdout",
     "output_type": "stream",
     "text": [
      "5/5 [==============================] - 0s 43ms/step\n"
     ]
    }
   ],
   "source": [
    "loss_and_metrics = model.evaluate(X2, y2, batch_size=128)"
   ]
  },
  {
   "cell_type": "code",
   "execution_count": 115,
   "metadata": {},
   "outputs": [],
   "source": [
    "pred = model.predict(X2, batch_size=128)"
   ]
  },
  {
   "cell_type": "code",
   "execution_count": 116,
   "metadata": {},
   "outputs": [
    {
     "data": {
      "text/plain": [
       "array([[nan, nan, nan, nan, nan],\n",
       "       [nan, nan, nan, nan, nan],\n",
       "       [nan, nan, nan, nan, nan],\n",
       "       [nan, nan, nan, nan, nan],\n",
       "       [nan, nan, nan, nan, nan]], dtype=float32)"
      ]
     },
     "execution_count": 116,
     "metadata": {},
     "output_type": "execute_result"
    }
   ],
   "source": [
    "pred"
   ]
  },
  {
   "cell_type": "code",
   "execution_count": 107,
   "metadata": {},
   "outputs": [
    {
     "data": {
      "text/plain": [
       "array([1, 1, 1, 1, 1])"
      ]
     },
     "execution_count": 107,
     "metadata": {},
     "output_type": "execute_result"
    }
   ],
   "source": [
    "pr = np.argmax(pred, axis=1)+1"
   ]
  },
  {
   "cell_type": "code",
   "execution_count": 89,
   "metadata": {},
   "outputs": [
    {
     "name": "stdout",
     "output_type": "stream",
     "text": [
      "Accuracy: 20.0%\n"
     ]
    }
   ],
   "source": [
    "correct = [1 if a == b else 0 for (a, b) in zip(pr, actualVal)]\n",
    "accuracy = (sum(map(int, correct)) / float(len(correct)))\n",
    "print (\"Accuracy: \" + str(accuracy * 100) + \"%\")"
   ]
  },
  {
   "cell_type": "code",
   "execution_count": 90,
   "metadata": {},
   "outputs": [],
   "source": [
    "for i in pred:\n",
    "    count = sum(i)\n",
    "    for j in range(len(i)):\n",
    "        i[j] = i[j] / count"
   ]
  },
  {
   "cell_type": "code",
   "execution_count": 91,
   "metadata": {},
   "outputs": [
    {
     "data": {
      "text/plain": [
       "[2, 4, 1, 3, 5]"
      ]
     },
     "execution_count": 91,
     "metadata": {},
     "output_type": "execute_result"
    }
   ],
   "source": [
    "import copy\n",
    "countGrade = copy.deepcopy(actualVal)\n",
    "countGrade"
   ]
  },
  {
   "cell_type": "code",
   "execution_count": 92,
   "metadata": {},
   "outputs": [],
   "source": [
    "for i in range(len(countGrade)):\n",
    "    ans = actualVal[i]\n",
    "    countGrade[i] = pred[i][ans-1]"
   ]
  },
  {
   "cell_type": "code",
   "execution_count": 96,
   "metadata": {},
   "outputs": [
    {
     "data": {
      "text/plain": [
       "array([[nan, nan, nan, nan, nan],\n",
       "       [nan, nan, nan, nan, nan],\n",
       "       [nan, nan, nan, nan, nan],\n",
       "       [nan, nan, nan, nan, nan],\n",
       "       [nan, nan, nan, nan, nan]], dtype=float32)"
      ]
     },
     "execution_count": 96,
     "metadata": {},
     "output_type": "execute_result"
    }
   ],
   "source": [
    "pred"
   ]
  },
  {
   "cell_type": "code",
   "execution_count": 93,
   "metadata": {},
   "outputs": [
    {
     "data": {
      "text/plain": [
       "nan"
      ]
     },
     "execution_count": 93,
     "metadata": {},
     "output_type": "execute_result"
    }
   ],
   "source": [
    "result = sum(countGrade) / len(countGrade)\n",
    "result"
   ]
  },
  {
   "cell_type": "code",
   "execution_count": 94,
   "metadata": {},
   "outputs": [
    {
     "name": "stdout",
     "output_type": "stream",
     "text": [
      "Model: \"sequential_4\"\n",
      "_________________________________________________________________\n",
      "Layer (type)                 Output Shape              Param #   \n",
      "=================================================================\n",
      "dense_13 (Dense)             (None, 64)                92224     \n",
      "_________________________________________________________________\n",
      "dense_14 (Dense)             (None, 128)               8320      \n",
      "_________________________________________________________________\n",
      "dense_15 (Dense)             (None, 32)                4128      \n",
      "_________________________________________________________________\n",
      "dense_16 (Dense)             (None, 5)                 165       \n",
      "=================================================================\n",
      "Total params: 104,837\n",
      "Trainable params: 104,837\n",
      "Non-trainable params: 0\n",
      "_________________________________________________________________\n"
     ]
    }
   ],
   "source": [
    "model.summary()"
   ]
  },
  {
   "cell_type": "code",
   "execution_count": null,
   "metadata": {},
   "outputs": [],
   "source": []
  }
 ],
 "metadata": {
  "kernelspec": {
   "display_name": "Python 3",
   "language": "python",
   "name": "python3"
  },
  "language_info": {
   "codemirror_mode": {
    "name": "ipython",
    "version": 3
   },
   "file_extension": ".py",
   "mimetype": "text/x-python",
   "name": "python",
   "nbconvert_exporter": "python",
   "pygments_lexer": "ipython3",
   "version": "3.7.4"
  }
 },
 "nbformat": 4,
 "nbformat_minor": 4
}
