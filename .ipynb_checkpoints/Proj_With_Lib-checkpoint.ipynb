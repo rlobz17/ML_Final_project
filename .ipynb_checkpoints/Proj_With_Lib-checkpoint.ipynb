{
 "cells": [
  {
   "cell_type": "code",
   "execution_count": 1,
   "metadata": {},
   "outputs": [
    {
     "name": "stdout",
     "output_type": "stream",
     "text": [
      "reading helper data on path: ./Data/Helper/backGround_street.wav\n",
      "reading helper data on path: ./Data/Helper/backGround_noice.wav\n",
      "reading helper data on path: ./Data/Helper/backGround_nature.wav\n",
      "[new value of  19\n",
      "------new value of  40\n",
      "-----new value of  64\n",
      "---------------------------------------------------------------------------------------------------------------------------------------------------------------------------------------------------------------------------------------------------new value of  70\n",
      "------------------------------------------------------------------------------------------------------------------------new value of  72\n",
      "--------------------------------------------------------------------------------------------------------------------------------------------------------------------------------------------------------------------------------------------------------------------------------------------------------------------------]\n",
      "[################################################################################################################################################################################################################################################################################################################################################################################################################################################################################################################################################################################################################################################################################################################################################################################################################################################################################################################################################################################################################################################################################################################################################################################################################################################################################################################################################################################################################################################################################################################################################################################################################################################################################################################################################################################################################################################################################################################################################################################################################################################################################################################################################################################################################################################################################################################################################################################################################################################################################################################################################################################################################################################################################################################################################################################################################################################################################################################################################################################################################################################################################################################################################################################################################################################################################################################################################################################################################################################################################################################################################################################################################################################################################################################################################################################################################################################################################################################################################################################################################################################################################################################################################################################################################################################################################################################################################################################################################################################################################################################################################################################################################################################################################################################################################################################################################################################################################################################################################################################################################################################################################################################################################################################################################################################################################################################################################################################################################################################################################################################################################################################################################################################################################################################################################################################################################################################################################################################################################################################################################################################################################################################################################################################################################################################################################################################################################################################################################################################################################################################################################################################################################################################################################################################################################################################################################################################################################################################################################################################################################################################################################################################################################################]\n",
      "[---------------------------]\n",
      "[###########################]\n"
     ]
    }
   ],
   "source": [
    "import DataProvider\n",
    "prov = DataProvider.DataProvider()"
   ]
  },
  {
   "cell_type": "code",
   "execution_count": 2,
   "metadata": {},
   "outputs": [],
   "source": [
    "import numpy as np\n",
    "X = list()\n",
    "y = list()\n",
    "trainVal = list()"
   ]
  },
  {
   "cell_type": "code",
   "execution_count": 3,
   "metadata": {},
   "outputs": [],
   "source": [
    "while prov.hasNext(True):\n",
    "    Xt, yt = prov.next(True)\n",
    "    for i in range(len(yt)):\n",
    "        if yt[i] == 1:\n",
    "            trainVal.append(i+1)\n",
    "            \n",
    "    X.append(Xt)\n",
    "    y.append(yt)"
   ]
  },
  {
   "cell_type": "code",
   "execution_count": 4,
   "metadata": {},
   "outputs": [
    {
     "data": {
      "text/plain": [
       "((6880, 1440), (6880, 5))"
      ]
     },
     "execution_count": 4,
     "metadata": {},
     "output_type": "execute_result"
    }
   ],
   "source": [
    "X = np.nan_to_num(np.matrix(X))\n",
    "y = np.matrix(y)\n",
    "\n",
    "X.shape, y.shape"
   ]
  },
  {
   "cell_type": "code",
   "execution_count": 5,
   "metadata": {},
   "outputs": [],
   "source": [
    "X2 = list()\n",
    "y2 = list()\n",
    "actualVal = list()"
   ]
  },
  {
   "cell_type": "code",
   "execution_count": 6,
   "metadata": {},
   "outputs": [],
   "source": [
    "while prov.hasNext(False):\n",
    "    X2t, y2t = prov.next(False)\n",
    "    actualVal.append(y2t)\n",
    "    \n",
    "    k = np.zeros(5)\n",
    "    k[y2t - 1] = 1\n",
    "    \n",
    "    X2.append(X2t)\n",
    "    y2.append(k)"
   ]
  },
  {
   "cell_type": "code",
   "execution_count": 7,
   "metadata": {},
   "outputs": [
    {
     "data": {
      "text/plain": [
       "((27, 1440), (27, 5))"
      ]
     },
     "execution_count": 7,
     "metadata": {},
     "output_type": "execute_result"
    }
   ],
   "source": [
    "X2 = np.nan_to_num(np.matrix(X2))\n",
    "y2 = np.matrix(y2)\n",
    "\n",
    "X2.shape, y2.shape"
   ]
  },
  {
   "cell_type": "code",
   "execution_count": 8,
   "metadata": {},
   "outputs": [
    {
     "name": "stderr",
     "output_type": "stream",
     "text": [
      "Using TensorFlow backend.\n"
     ]
    }
   ],
   "source": [
    "import keras\n",
    "from keras.models import Sequential\n",
    "from keras.layers import Dense\n",
    "from keras import optimizers"
   ]
  },
  {
   "cell_type": "code",
   "execution_count": 23,
   "metadata": {},
   "outputs": [],
   "source": [
    "model = Sequential()"
   ]
  },
  {
   "cell_type": "code",
   "execution_count": 24,
   "metadata": {},
   "outputs": [],
   "source": [
    "model.add(Dense(units=64, activation='relu', input_dim = prov.returnSizeOfEverySpectogram()))\n",
    "model.add(Dense(64, activation='relu'))\n",
    "model.add(Dense(32, activation='relu'))\n",
    "model.add(Dense(16, activation='relu'))\n",
    "model.add(Dense(8, activation='relu'))\n",
    "#model.add(Dense(128, activation='relu'))\n",
    "model.add(Dense(units=5, activation='softmax'))"
   ]
  },
  {
   "cell_type": "code",
   "execution_count": 25,
   "metadata": {},
   "outputs": [],
   "source": [
    "model.compile(loss='categorical_crossentropy',\n",
    "              optimizer='sgd',\n",
    "              metrics=['accuracy'])"
   ]
  },
  {
   "cell_type": "code",
   "execution_count": 26,
   "metadata": {},
   "outputs": [
    {
     "name": "stdout",
     "output_type": "stream",
     "text": [
      "Train on 5504 samples, validate on 1376 samples\n",
      "Epoch 1/20\n",
      "5504/5504 [==============================] - 0s 56us/step - loss: 1.6116 - accuracy: 0.1900 - val_loss: 1.5987 - val_accuracy: 0.1948\n",
      "Epoch 2/20\n",
      "5504/5504 [==============================] - 0s 39us/step - loss: 1.5916 - accuracy: 0.2311 - val_loss: 1.5982 - val_accuracy: 0.1860\n",
      "Epoch 3/20\n",
      "5504/5504 [==============================] - 0s 40us/step - loss: 1.5765 - accuracy: 0.2778 - val_loss: 1.5956 - val_accuracy: 0.1853\n",
      "Epoch 4/20\n",
      "5504/5504 [==============================] - 0s 40us/step - loss: 1.5577 - accuracy: 0.3298 - val_loss: 1.5893 - val_accuracy: 0.1962\n",
      "Epoch 5/20\n",
      "5504/5504 [==============================] - 0s 40us/step - loss: 1.5316 - accuracy: 0.3681 - val_loss: 1.5795 - val_accuracy: 0.2115\n",
      "Epoch 6/20\n",
      "5504/5504 [==============================] - 0s 42us/step - loss: 1.4961 - accuracy: 0.4061 - val_loss: 1.5668 - val_accuracy: 0.2238\n",
      "Epoch 7/20\n",
      "5504/5504 [==============================] - 0s 41us/step - loss: 1.4524 - accuracy: 0.4422 - val_loss: 1.5506 - val_accuracy: 0.2471\n",
      "Epoch 8/20\n",
      "5504/5504 [==============================] - 0s 45us/step - loss: 1.4009 - accuracy: 0.4700 - val_loss: 1.5300 - val_accuracy: 0.2711\n",
      "Epoch 9/20\n",
      "5504/5504 [==============================] - 0s 47us/step - loss: 1.3426 - accuracy: 0.5058 - val_loss: 1.5068 - val_accuracy: 0.2863\n",
      "Epoch 10/20\n",
      "5504/5504 [==============================] - 0s 47us/step - loss: 1.2798 - accuracy: 0.5322 - val_loss: 1.4802 - val_accuracy: 0.3038\n",
      "Epoch 11/20\n",
      "5504/5504 [==============================] - 0s 44us/step - loss: 1.2144 - accuracy: 0.5489 - val_loss: 1.4563 - val_accuracy: 0.3249\n",
      "Epoch 12/20\n",
      "5504/5504 [==============================] - 0s 45us/step - loss: 1.1493 - accuracy: 0.5723 - val_loss: 1.4318 - val_accuracy: 0.3474\n",
      "Epoch 13/20\n",
      "5504/5504 [==============================] - 0s 46us/step - loss: 1.0871 - accuracy: 0.5925 - val_loss: 1.4096 - val_accuracy: 0.3685\n",
      "Epoch 14/20\n",
      "5504/5504 [==============================] - 0s 44us/step - loss: 1.0278 - accuracy: 0.6137 - val_loss: 1.3841 - val_accuracy: 0.3859\n",
      "Epoch 15/20\n",
      "5504/5504 [==============================] - 0s 47us/step - loss: 0.9707 - accuracy: 0.6499 - val_loss: 1.3600 - val_accuracy: 0.3961\n",
      "Epoch 16/20\n",
      "5504/5504 [==============================] - 0s 43us/step - loss: 0.9150 - accuracy: 0.6804 - val_loss: 1.3435 - val_accuracy: 0.4121\n",
      "Epoch 17/20\n",
      "5504/5504 [==============================] - 0s 47us/step - loss: 0.8602 - accuracy: 0.7073 - val_loss: 1.3265 - val_accuracy: 0.4281\n",
      "Epoch 18/20\n",
      "5504/5504 [==============================] - 0s 40us/step - loss: 0.8055 - accuracy: 0.7396 - val_loss: 1.3129 - val_accuracy: 0.4484\n",
      "Epoch 19/20\n",
      "5504/5504 [==============================] - 0s 45us/step - loss: 0.7504 - accuracy: 0.7662 - val_loss: 1.3113 - val_accuracy: 0.4724\n",
      "Epoch 20/20\n",
      "5504/5504 [==============================] - 0s 42us/step - loss: 0.6943 - accuracy: 0.7947 - val_loss: 1.3081 - val_accuracy: 0.4956\n"
     ]
    }
   ],
   "source": [
    "history = model.fit(X, y, epochs=100, batch_size=128, verbose=1, validation_split=0.2)"
   ]
  },
  {
   "cell_type": "code",
   "execution_count": 27,
   "metadata": {},
   "outputs": [
    {
     "data": {
      "image/png": "[encoded data removed]",
      "text/plain": [
       "<Figure size 432x288 with 1 Axes>"
      ]
     },
     "metadata": {
      "needs_background": "light"
     },
     "output_type": "display_data"
    },
    {
     "data": {
      "image/png": "[encoded data removed]",
      "text/plain": [
       "<Figure size 432x288 with 1 Axes>"
      ]
     },
     "metadata": {
      "needs_background": "light"
     },
     "output_type": "display_data"
    }
   ],
   "source": [
    "import matplotlib.pyplot as plt\n",
    "\n",
    "# Plot training & validation accuracy values\n",
    "plt.plot(history.history['accuracy'])\n",
    "plt.plot(history.history['val_accuracy'])\n",
    "plt.title('Model accuracy')\n",
    "plt.ylabel('Accuracy')\n",
    "plt.xlabel('Epoch')\n",
    "plt.legend(['Train', 'Test'], loc='upper left')\n",
    "plt.show()\n",
    "\n",
    "# Plot training & validation loss values\n",
    "plt.plot(history.history['loss'])\n",
    "plt.plot(history.history['val_loss'])\n",
    "plt.title('Model loss')\n",
    "plt.ylabel('Loss')\n",
    "plt.xlabel('Epoch')\n",
    "plt.legend(['Train', 'Test'], loc='upper left')\n",
    "plt.show()"
   ]
  },
  {
   "cell_type": "code",
   "execution_count": 28,
   "metadata": {},
   "outputs": [
    {
     "name": "stdout",
     "output_type": "stream",
     "text": [
      "\r",
      "27/27 [==============================] - 0s 112us/step\n"
     ]
    }
   ],
   "source": [
    "loss_and_metrics = model.evaluate(X2, y2, batch_size=128)"
   ]
  },
  {
   "cell_type": "code",
   "execution_count": 29,
   "metadata": {},
   "outputs": [],
   "source": [
    "pred = model.predict(X2, batch_size=128)"
   ]
  },
  {
   "cell_type": "code",
   "execution_count": 30,
   "metadata": {},
   "outputs": [
    {
     "data": {
      "text/plain": [
       "array([2, 4, 3, 4, 4, 2, 5, 1, 4, 3, 4, 4, 1, 2, 5, 5, 3, 4, 1, 1, 3, 1,\n",
       "       4, 5, 4, 4, 1])"
      ]
     },
     "execution_count": 30,
     "metadata": {},
     "output_type": "execute_result"
    }
   ],
   "source": [
    "pr = np.argmax(pred, axis=1)+1\n",
    "pr"
   ]
  },
  {
   "cell_type": "code",
   "execution_count": 31,
   "metadata": {},
   "outputs": [
    {
     "name": "stdout",
     "output_type": "stream",
     "text": [
      "Accuracy: 44.44444444444444%\n"
     ]
    }
   ],
   "source": [
    "correct = [1 if a == b else 0 for (a, b) in zip(pr, actualVal)]\n",
    "accuracy = (sum(map(int, correct)) / float(len(correct)))\n",
    "print (\"Accuracy: \" + str(accuracy * 100) + \"%\")"
   ]
  },
  {
   "cell_type": "code",
   "execution_count": 32,
   "metadata": {},
   "outputs": [],
   "source": [
    "for i in pred:\n",
    "    count = sum(i)\n",
    "    for j in range(len(i)):\n",
    "        i[j] = i[j] / count"
   ]
  },
  {
   "cell_type": "code",
   "execution_count": 33,
   "metadata": {},
   "outputs": [],
   "source": [
    "import copy\n",
    "countGrade = copy.deepcopy(actualVal)\n"
   ]
  },
  {
   "cell_type": "code",
   "execution_count": 34,
   "metadata": {},
   "outputs": [],
   "source": [
    "for i in range(len(countGrade)):\n",
    "    ans = actualVal[i]\n",
    "    countGrade[i] = pred[i][ans-1]"
   ]
  },
  {
   "cell_type": "code",
   "execution_count": 35,
   "metadata": {},
   "outputs": [
    {
     "data": {
      "text/plain": [
       "0.3994321171194315"
      ]
     },
     "execution_count": 35,
     "metadata": {},
     "output_type": "execute_result"
    }
   ],
   "source": [
    "result = sum(countGrade) / len(countGrade)\n",
    "result"
   ]
  },
  {
   "cell_type": "code",
   "execution_count": 22,
   "metadata": {},
   "outputs": [
    {
     "name": "stdout",
     "output_type": "stream",
     "text": [
      "Model: \"sequential_1\"\n",
      "_________________________________________________________________\n",
      "Layer (type)                 Output Shape              Param #   \n",
      "=================================================================\n",
      "dense_1 (Dense)              (None, 64)                92224     \n",
      "_________________________________________________________________\n",
      "dense_2 (Dense)              (None, 64)                4160      \n",
      "_________________________________________________________________\n",
      "dense_3 (Dense)              (None, 32)                2080      \n",
      "_________________________________________________________________\n",
      "dense_4 (Dense)              (None, 16)                528       \n",
      "_________________________________________________________________\n",
      "dense_5 (Dense)              (None, 8)                 136       \n",
      "_________________________________________________________________\n",
      "dense_6 (Dense)              (None, 5)                 45        \n",
      "=================================================================\n",
      "Total params: 99,173\n",
      "Trainable params: 99,173\n",
      "Non-trainable params: 0\n",
      "_________________________________________________________________\n"
     ]
    }
   ],
   "source": [
    "model.summary()"
   ]
  },
  {
   "cell_type": "code",
   "execution_count": null,
   "metadata": {},
   "outputs": [],
   "source": []
  }
 ],
 "metadata": {
  "kernelspec": {
   "display_name": "Python 3",
   "language": "python",
   "name": "python3"
  },
  "language_info": {
   "codemirror_mode": {
    "name": "ipython",
    "version": 3
   },
   "file_extension": ".py",
   "mimetype": "text/x-python",
   "name": "python",
   "nbconvert_exporter": "python",
   "pygments_lexer": "ipython3",
   "version": "3.7.6"
  }
 },
 "nbformat": 4,
 "nbformat_minor": 4
}
