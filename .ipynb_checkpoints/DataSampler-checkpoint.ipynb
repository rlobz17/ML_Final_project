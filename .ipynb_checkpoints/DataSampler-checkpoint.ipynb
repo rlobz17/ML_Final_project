{
 "cells": [
  {
   "cell_type": "code",
   "execution_count": 1,
   "metadata": {},
   "outputs": [],
   "source": [
    "#importing local classes\n",
    "import DataParser\n",
    "#importing libraries\n",
    "import os\n",
    "import pandas as pd\n",
    "import librosa\n",
    "import librosa.display as librosa_display\n",
    "import matplotlib.pyplot as plt\n",
    "import contextlib\n",
    "import wave\n",
    "#%matplotlib inline"
   ]
  },
  {
   "cell_type": "code",
   "execution_count": 2,
   "metadata": {},
   "outputs": [],
   "source": [
    "data_parser = DataParser.DataParser()\n",
    "random_file_pathes_for_each_number = list()\n",
    "for i in range(5):\n",
    "    random_file_path = data_parser.return_one_random_path_file(True, i+1)\n",
    "    random_file_pathes_for_each_number.append(random_file_path)"
   ]
  },
  {
   "cell_type": "code",
   "execution_count": 3,
   "metadata": {},
   "outputs": [
    {
     "name": "stdout",
     "output_type": "stream",
     "text": [
      "[4.9058994e-04 2.5143505e-03 1.7358352e-03 ... 3.3711501e-08 1.2020793e-07\n",
      " 0.0000000e+00]\n"
     ]
    }
   ],
   "source": [
    "random_file_path = random_file_pathes_for_each_number[1]\n",
    "random_file_data_numpy, sampling_rate = librosa.load(random_file_path, sr=16000)\n",
    "print(random_file_data_numpy)"
   ]
  },
  {
   "cell_type": "code",
   "execution_count": 4,
   "metadata": {},
   "outputs": [
    {
     "data": {
      "text/plain": [
       "<matplotlib.collections.PolyCollection at 0x7f902e88b150>"
      ]
     },
     "execution_count": 4,
     "metadata": {},
     "output_type": "execute_result"
    },
    {
     "data": {
      "image/png": "[encoded data removed]",
      "text/plain": [
       "<Figure size 864x288 with 1 Axes>"
      ]
     },
     "metadata": {
      "needs_background": "light"
     },
     "output_type": "display_data"
    }
   ],
   "source": [
    "plt.figure(figsize=(12, 4))\n",
    "librosa_display.waveplot(random_file_data_numpy, sr=sampling_rate)"
   ]
  },
  {
   "cell_type": "code",
   "execution_count": 5,
   "metadata": {},
   "outputs": [
    {
     "ename": "TypeError",
     "evalue": "remove_silences() missing 1 required positional argument: 'self'",
     "output_type": "error",
     "traceback": [
      "\u001b[0;31m---------------------------------------------------------------------------\u001b[0m",
      "\u001b[0;31mTypeError\u001b[0m                                 Traceback (most recent call last)",
      "\u001b[0;32m<ipython-input-5-9c03b976af06>\u001b[0m in \u001b[0;36m<module>\u001b[0;34m\u001b[0m\n\u001b[1;32m      1\u001b[0m \u001b[0;32mimport\u001b[0m \u001b[0mVAD\u001b[0m\u001b[0;34m\u001b[0m\u001b[0;34m\u001b[0m\u001b[0m\n\u001b[1;32m      2\u001b[0m \u001b[0mvad_class\u001b[0m \u001b[0;34m=\u001b[0m \u001b[0mVAD\u001b[0m\u001b[0;34m.\u001b[0m\u001b[0mVAD\u001b[0m\u001b[0;34m\u001b[0m\u001b[0;34m\u001b[0m\u001b[0m\n\u001b[0;32m----> 3\u001b[0;31m \u001b[0mrandom_file_data_numpy_no_silence\u001b[0m \u001b[0;34m=\u001b[0m \u001b[0mvad_class\u001b[0m\u001b[0;34m.\u001b[0m\u001b[0mremove_silences\u001b[0m\u001b[0;34m(\u001b[0m\u001b[0mnumpy_data\u001b[0m \u001b[0;34m=\u001b[0m \u001b[0mrandom_file_data_numpy\u001b[0m\u001b[0;34m,\u001b[0m \u001b[0maggressive\u001b[0m \u001b[0;34m=\u001b[0m \u001b[0;36m0.02\u001b[0m\u001b[0;34m)\u001b[0m\u001b[0;34m\u001b[0m\u001b[0;34m\u001b[0m\u001b[0m\n\u001b[0m",
      "\u001b[0;31mTypeError\u001b[0m: remove_silences() missing 1 required positional argument: 'self'"
     ]
    }
   ],
   "source": [
    "import VAD\n",
    "vad_class = VAD.VAD\n",
    "random_file_data_numpy_no_silence = vad_class.remove_silences(self =vad_class, numpy_data = random_file_data_numpy, aggressive = 0.02)"
   ]
  },
  {
   "cell_type": "code",
   "execution_count": null,
   "metadata": {},
   "outputs": [],
   "source": [
    "plt.figure(figsize=(12, 4))\n",
    "librosa_display.waveplot(random_file_data_numpy_no_silence, sr=sampling_rate)"
   ]
  },
  {
   "cell_type": "code",
   "execution_count": null,
   "metadata": {},
   "outputs": [],
   "source": [
    "import IPython.display as ipd\n",
    "ipd.Audio(random_file_data_numpy_no_silence, rate=sampling_rate)"
   ]
  },
  {
   "cell_type": "code",
   "execution_count": null,
   "metadata": {},
   "outputs": [],
   "source": [
    "import numpy as np\n",
    "from scipy import signal\n",
    "def log_specgram(audio, sample_rate, window_size=20,\n",
    "                 step_size=10, eps=1e-10):\n",
    "    nperseg = int(round(window_size * sample_rate / 1e3))\n",
    "    noverlap = int(round(step_size * sample_rate / 1e3))\n",
    "    freqs, times, spec = signal.spectrogram(audio,\n",
    "                                    fs=sample_rate,\n",
    "                                    window='hann',\n",
    "                                    nperseg=nperseg,\n",
    "                                    noverlap=noverlap,\n",
    "                                    detrend=False)\n",
    "    return freqs, times, np.log(spec.T.astype(np.float32) + eps)"
   ]
  },
  {
   "cell_type": "code",
   "execution_count": null,
   "metadata": {},
   "outputs": [],
   "source": [
    "freqs, times, spectrogram = log_specgram(random_file_data_numpy_no_silence, sampling_rate)"
   ]
  },
  {
   "cell_type": "code",
   "execution_count": null,
   "metadata": {},
   "outputs": [],
   "source": [
    "print(spectrogram)"
   ]
  },
  {
   "cell_type": "code",
   "execution_count": null,
   "metadata": {},
   "outputs": [],
   "source": [
    "fig = plt.figure(figsize=(14, 8))\n",
    "#ax1 = fig.add_subplot(211)\n",
    "#ax1.set_title('Raw wave of ')\n",
    "#ax1.set_ylabel('Amplitude')\n",
    "#ax1.plot(np.linspace(0, sampling_rate/len(random_file_data_numpy_no_silence), sampling_rate), random_file_data_numpy_no_silence)\n",
    "\n",
    "ax2 = fig.add_subplot(212)\n",
    "ax2.imshow(spectrogram.T, aspect='auto', origin='lower', \n",
    "           extent=[times.min(), times.max(), freqs.min(), freqs.max()])\n",
    "ax2.set_yticks(freqs[::16])\n",
    "ax2.set_xticks(times[::16])\n",
    "ax2.set_title('Spectrogram of ')\n",
    "ax2.set_ylabel('Freqs in Hz')\n",
    "ax2.set_xlabel('Seconds')"
   ]
  },
  {
   "cell_type": "code",
   "execution_count": null,
   "metadata": {},
   "outputs": [],
   "source": [
    "mean = np.mean(spectrogram, axis=0)\n",
    "std = np.std(spectrogram, axis=0)\n",
    "spectrogram = (spectrogram - mean) / std"
   ]
  },
  {
   "cell_type": "code",
   "execution_count": null,
   "metadata": {},
   "outputs": [],
   "source": [
    "print(spectrogram.shape)"
   ]
  },
  {
   "cell_type": "code",
   "execution_count": null,
   "metadata": {},
   "outputs": [],
   "source": []
  }
 ],
 "metadata": {
  "kernelspec": {
   "display_name": "Python 3",
   "language": "python",
   "name": "python3"
  },
  "language_info": {
   "codemirror_mode": {
    "name": "ipython",
    "version": 3
   },
   "file_extension": ".py",
   "mimetype": "text/x-python",
   "name": "python",
   "nbconvert_exporter": "python",
   "pygments_lexer": "ipython3",
   "version": "3.7.4"
  }
 },
 "nbformat": 4,
 "nbformat_minor": 2
}
